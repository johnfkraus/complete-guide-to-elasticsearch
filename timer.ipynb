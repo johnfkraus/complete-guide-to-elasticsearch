{
 "cells": [
  {
   "cell_type": "code",
   "execution_count": 6,
   "id": "2ab843b3-8269-4056-b3b8-8f658af0cbd0",
   "metadata": {},
   "outputs": [
    {
     "name": "stdout",
     "output_type": "stream",
     "text": [
      "100\n",
      "Time to run: 0.0001 seconds\n"
     ]
    }
   ],
   "source": [
    "# https://realpython.com/python-timer/\n",
    "import time\n",
    "# from reader import feed\n",
    "\n",
    "def main():\n",
    "    \"\"\"Print the latest tutorial from Real Python\"\"\"\n",
    "    tic = time.perf_counter()\n",
    "    x = 0\n",
    "    for n in range(100):\n",
    "        x = x + 1\n",
    "        \n",
    "    # tutorial = feed.get_article(0)\n",
    "\n",
    "    print(x)\n",
    "    toc = time.perf_counter()\n",
    "    print(f\"Time to run: {toc - tic:0.4f} seconds\")\n",
    "\n",
    "    # print(tutorial)\n",
    "\n",
    "if __name__ == \"__main__\":\n",
    "    main()"
   ]
  },
  {
   "cell_type": "code",
   "execution_count": null,
   "id": "731f3631-642e-49da-9ee6-7f082c5e38f3",
   "metadata": {},
   "outputs": [],
   "source": []
  }
 ],
 "metadata": {
  "kernelspec": {
   "display_name": "Python [conda env:py311b]",
   "language": "python",
   "name": "conda-env-py311b-py"
  },
  "language_info": {
   "codemirror_mode": {
    "name": "ipython",
    "version": 3
   },
   "file_extension": ".py",
   "mimetype": "text/x-python",
   "name": "python",
   "nbconvert_exporter": "python",
   "pygments_lexer": "ipython3",
   "version": "3.11.13"
  },
  "widgets": {
   "application/vnd.jupyter.widget-state+json": {
    "state": {},
    "version_major": 2,
    "version_minor": 0
   }
  }
 },
 "nbformat": 4,
 "nbformat_minor": 5
}
