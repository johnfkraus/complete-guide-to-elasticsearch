{
 "cells": [
  {
   "cell_type": "markdown",
   "id": "6af1a884-f260-4dae-ab1c-173c8d082390",
   "metadata": {},
   "source": [
    "Here's how to work with JSON files in Python:\n",
    "\n",
    "## Writing JSON to a File"
   ]
  },
  {
   "cell_type": "code",
   "execution_count": 4,
   "id": "f1f45a41-55d7-47eb-825d-609001c568f9",
   "metadata": {},
   "outputs": [],
   "source": [
    "import json\n",
    "\n",
    "# Your data (dictionary, list, etc.)\n",
    "data = {\n",
    "    \"name\": \"Alice\",\n",
    "    \"age\": 30,\n",
    "    \"city\": \"New York\",\n",
    "    \"hobbies\": [\"reading\", \"hiking\", \"photography\"]\n",
    "}\n",
    "\n",
    "# Write to file\n",
    "with open('data.json', 'w') as file:\n",
    "    json.dump(data, file, indent=4)  # indent=4 makes it readable"
   ]
  },
  {
   "cell_type": "code",
   "execution_count": 3,
   "id": "8459be8c-5261-410e-8175-5a70a22ceaf3",
   "metadata": {},
   "outputs": [
    {
     "name": "stdout",
     "output_type": "stream",
     "text": [
      "{'name': 'Alice', 'age': 30, 'city': 'New York', 'hobbies': ['reading', 'hiking', 'photography']}\n",
      "Alice\n"
     ]
    }
   ],
   "source": [
    "## Reading JSON from a File\n",
    "\n",
    "import json\n",
    "\n",
    "# Read from file into a dictionary\n",
    "with open('data.json', 'r') as file:\n",
    "    data2 = json.load(file)\n",
    "\n",
    "print(data2)  # {'name': 'Alice', 'age': 30, ...}\n",
    "print(data2['name'])  # Alice"
   ]
  },
  {
   "cell_type": "markdown",
   "id": "bee13a2f-94d5-442d-8405-d66dd322be2b",
   "metadata": {},
   "source": [
    "## Key Points\n",
    "\n",
    "- **`json.dump()`** - writes Python object to a file\n",
    "- **`json.load()`** - reads JSON file into Python object (usually a dict or list)\n",
    "- **`indent=4`** - optional parameter that formats the JSON nicely with indentation\n",
    "- **`with open()`** - automatically closes the file when done\n",
    "\n",
    "If you're working with JSON strings instead of files, you can use:\n",
    "- `json.dumps()` - converts Python object to JSON string\n",
    "- `json.loads()` - converts JSON string to Python object"
   ]
  },
  {
   "cell_type": "markdown",
   "id": "8c719256-701a-46a5-8eda-1c7e414c1a25",
   "metadata": {},
   "source": [
    "Here are several ways to search for dictionary keys that contain a substring in Python:\n",
    "\n",
    "Basic Approach"
   ]
  },
  {
   "cell_type": "code",
   "execution_count": 5,
   "id": "0bba9f80-b10f-4c4f-96be-8b2b47e5ca10",
   "metadata": {},
   "outputs": [
    {
     "name": "stdout",
     "output_type": "stream",
     "text": [
      "['user_name', 'user_email', 'user_age']\n"
     ]
    }
   ],
   "source": [
    "data = {\n",
    "    \"user_name\": \"Alice\",\n",
    "    \"user_email\": \"alice@example.com\",\n",
    "    \"user_age\": 30,\n",
    "    \"admin_role\": \"editor\",\n",
    "    \"system_id\": 12345\n",
    "}\n",
    "\n",
    "substring = \"user\"\n",
    "\n",
    "# Find all keys containing the substring\n",
    "matching_keys = [key for key in data.keys() if substring in key]\n",
    "print(matching_keys)  # ['user_name', 'user_email', 'user_age']"
   ]
  },
  {
   "cell_type": "code",
   "execution_count": 6,
   "id": "fbdf1391-d217-4ca2-9d55-b42aa283e32f",
   "metadata": {},
   "outputs": [
    {
     "name": "stdout",
     "output_type": "stream",
     "text": [
      "{'user_name': 'Alice', 'user_email': 'alice@example.com', 'user_age': 30}\n"
     ]
    }
   ],
   "source": [
    "## Get Keys AND Values\n",
    "\n",
    "# Get matching keys with their values\n",
    "matching_items = {key: value for key, value in data.items() if substring in key}\n",
    "print(matching_items)\n",
    "# {'user_name': 'Alice', 'user_email': 'alice@example.com', 'user_age': 30}"
   ]
  },
  {
   "cell_type": "code",
   "execution_count": 7,
   "id": "ab320c41-781d-4391-9143-611db05768db",
   "metadata": {},
   "outputs": [
    {
     "name": "stdout",
     "output_type": "stream",
     "text": [
      "['user_name', 'user_email', 'user_age']\n"
     ]
    }
   ],
   "source": [
    "## Case-Insensitive Search\n",
    "\n",
    "substring = \"USER\"  # uppercase\n",
    "\n",
    "# Case-insensitive search\n",
    "matching_keys = [key for key in data.keys() if substring.lower() in key.lower()]\n",
    "print(matching_keys)  # ['user_name', 'user_email', 'user_age']"
   ]
  },
  {
   "cell_type": "code",
   "execution_count": 8,
   "id": "783983cf-4df3-41cc-b52f-ea7fb4298256",
   "metadata": {},
   "outputs": [
    {
     "name": "stdout",
     "output_type": "stream",
     "text": [
      "[]\n"
     ]
    }
   ],
   "source": [
    "## Using Filter\n",
    "\n",
    "# Alternative using filter()\n",
    "matching_keys = list(filter(lambda key: substring in key, data.keys()))\n",
    "print(matching_keys)  # ['user_name', 'user_email', 'user_age']"
   ]
  },
  {
   "cell_type": "code",
   "execution_count": null,
   "id": "fb51518e-c1ae-420c-91c3-5322173469cc",
   "metadata": {},
   "outputs": [],
   "source": [
    "## Practical Example\n",
    "\n",
    "def find_keys_with_substring(dictionary, substring, case_sensitive=True):\n",
    "    \"\"\"Find all keys containing a substring.\"\"\"\n",
    "    if case_sensitive:\n",
    "        return [key for key in dictionary.keys() if substring in key]\n",
    "    else:\n",
    "        substring = substring.lower()\n",
    "        return [key for key in dictionary.keys() if substring in key.lower()]\n",
    "\n",
    "# Usage\n",
    "results = find_keys_with_substring(data, \"user\")\n",
    "print(results)  # ['user_name', 'user_email', 'user_age']"
   ]
  },
  {
   "cell_type": "code",
   "execution_count": null,
   "id": "9c358597-3596-42b3-8f29-12bb0f0d6541",
   "metadata": {},
   "outputs": [],
   "source": []
  },
  {
   "cell_type": "markdown",
   "id": "c91fb248-25a5-4727-9323-b3965a2732a6",
   "metadata": {},
   "source": [
    "The list comprehension approach (`[key for key in data.keys() if substring in key]`) is the most Pythonic and readable way to do this!"
   ]
  },
  {
   "cell_type": "code",
   "execution_count": null,
   "id": "cb97d9a3-0366-434c-ba33-7cd62a2c83ff",
   "metadata": {},
   "outputs": [],
   "source": []
  }
 ],
 "metadata": {
  "kernelspec": {
   "display_name": "Python [conda env:py311b]",
   "language": "python",
   "name": "conda-env-py311b-py"
  },
  "language_info": {
   "codemirror_mode": {
    "name": "ipython",
    "version": 3
   },
   "file_extension": ".py",
   "mimetype": "text/x-python",
   "name": "python",
   "nbconvert_exporter": "python",
   "pygments_lexer": "ipython3",
   "version": "3.11.13"
  },
  "widgets": {
   "application/vnd.jupyter.widget-state+json": {
    "state": {},
    "version_major": 2,
    "version_minor": 0
   }
  }
 },
 "nbformat": 4,
 "nbformat_minor": 5
}
