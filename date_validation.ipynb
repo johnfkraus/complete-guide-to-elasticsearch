{
 "cells": [
  {
   "cell_type": "markdown",
   "id": "5b4b8a17-2785-4fe9-958e-7ab8fd4d3270",
   "metadata": {},
   "source": [
    "# Date validation"
   ]
  },
  {
   "cell_type": "code",
   "execution_count": 7,
   "id": "444930e9-0289-475e-80c4-be4ac33d294e",
   "metadata": {},
   "outputs": [
    {
     "name": "stdout",
     "output_type": "stream",
     "text": [
      "'2023-10-26' with format '%Y-%m-%d' is valid: True\n",
      "'2023/10/26' with format '%Y-%m-%d' is valid: False\n",
      "'2023-02-30' with format '%Y-%m-%d' is valid: False\n",
      "'0223-01-12' with format '%Y-%m-%d' is valid: True\n",
      "'3022-01-12' with format '%Y-%m-%d' is valid: True\n",
      "'0001-01-12' with format '%Y-%m-%d' is valid: True\n"
     ]
    }
   ],
   "source": [
    "from datetime import datetime\n",
    "\n",
    "def validate_date(date_string, date_format):\n",
    "    \"\"\"\n",
    "    Validates if a given date_string matches the specified date_format.\n",
    "\n",
    "    Args:\n",
    "        date_string (str): The date string to validate.\n",
    "        date_format (str): The expected format of the date string (e.g., '%Y-%m-%d').\n",
    "\n",
    "    Returns:\n",
    "        bool: True if the date is valid and matches the format, False otherwise.\n",
    "    \"\"\"\n",
    "    try:\n",
    "        datetime.strptime(date_string, date_format)\n",
    "        return True\n",
    "    except ValueError:\n",
    "        return False\n",
    "\n",
    "# Example usage:\n",
    "date1 = \"2023-10-26\"\n",
    "format1 = \"%Y-%m-%d\"\n",
    "print(f\"'{date1}' with format '{format1}' is valid: {validate_date(date1, format1)}\")\n",
    "\n",
    "date2 = \"2023/10/26\"\n",
    "format2 = \"%Y-%m-%d\"\n",
    "print(f\"'{date2}' with format '{format2}' is valid: {validate_date(date2, format2)}\")\n",
    "\n",
    "date3 = \"2023-02-30\" # Invalid date\n",
    "format3 = \"%Y-%m-%d\"\n",
    "print(f\"'{date3}' with format '{format3}' is valid: {validate_date(date3, format3)}\")\n",
    "\n",
    "date3 = \"0223-01-12\" # Invalid date\n",
    "format3 = \"%Y-%m-%d\"\n",
    "print(f\"'{date3}' with format '{format3}' is valid: {validate_date(date3, format3)}\")\n",
    "\n",
    "date3 = \"3022-01-12\" # Invalid date\n",
    "format3 = \"%Y-%m-%d\"\n",
    "print(f\"'{date3}' with format '{format3}' is valid: {validate_date(date3, format3)}\")\n",
    "\n",
    "date3 = \"0001-01-12\" # Invalid date\n",
    "format3 = \"%Y-%m-%d\"\n",
    "print(f\"'{date3}' with format '{format3}' is valid: {validate_date(date3, format3)}\")"
   ]
  },
  {
   "cell_type": "code",
   "execution_count": null,
   "id": "57e2875e-b7e3-4d4b-9425-57035cef310a",
   "metadata": {},
   "outputs": [],
   "source": []
  }
 ],
 "metadata": {
  "kernelspec": {
   "display_name": "Python [conda env:py311b]",
   "language": "python",
   "name": "conda-env-py311b-py"
  },
  "language_info": {
   "codemirror_mode": {
    "name": "ipython",
    "version": 3
   },
   "file_extension": ".py",
   "mimetype": "text/x-python",
   "name": "python",
   "nbconvert_exporter": "python",
   "pygments_lexer": "ipython3",
   "version": "3.11.13"
  },
  "widgets": {
   "application/vnd.jupyter.widget-state+json": {
    "state": {},
    "version_major": 2,
    "version_minor": 0
   }
  }
 },
 "nbformat": 4,
 "nbformat_minor": 5
}
