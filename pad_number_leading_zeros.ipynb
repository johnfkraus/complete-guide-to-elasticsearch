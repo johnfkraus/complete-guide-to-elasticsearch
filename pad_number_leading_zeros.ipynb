{
 "cells": [
  {
   "cell_type": "markdown",
   "id": "ea8ecfaa-750b-4458-b3d6-6a1d3afb6d8b",
   "metadata": {},
   "source": [
    "# Padding a number with leading zeros"
   ]
  },
  {
   "cell_type": "code",
   "execution_count": 8,
   "id": "dbebb270-ebf5-4d45-a335-3f455e0757b2",
   "metadata": {},
   "outputs": [
    {
     "name": "stdout",
     "output_type": "stream",
     "text": [
      "00042\n"
     ]
    }
   ],
   "source": [
    "# zfill\n",
    "number = 42\n",
    "padded_number = str(number).zfill(5)  # Total length of 5 characters\n",
    "print(padded_number)"
   ]
  },
  {
   "cell_type": "markdown",
   "id": "7e15341d-3599-47f5-b482-a459c0171498",
   "metadata": {},
   "source": [
    "In the f-string \"{number:03d}\":\n",
    "\n",
    "number is the variable to be formatted.\n",
    "\n",
    ":03d is the format specifier:\n",
    "\n",
    "0 indicates zero-padding.\n",
    "\n",
    "3 specifies the total width (including the digits of the number itself).\n",
    "\n",
    "d indicates that the value is an integer.\n"
   ]
  },
  {
   "cell_type": "code",
   "execution_count": 6,
   "id": "4b3707c9-1db9-4002-a811-8726fbcb93e4",
   "metadata": {},
   "outputs": [
    {
     "name": "stdout",
     "output_type": "stream",
     "text": [
      "007\n"
     ]
    }
   ],
   "source": [
    "# fstring\n",
    "number = 7\n",
    "padded_number = f\"{number:03d}\"  # Total length of 3 characters\n",
    "print(padded_number)"
   ]
  },
  {
   "cell_type": "code",
   "execution_count": 3,
   "id": "e1ed87e5-ac02-43a6-b5df-67fe189c2963",
   "metadata": {},
   "outputs": [
    {
     "name": "stdout",
     "output_type": "stream",
     "text": [
      "000100\n"
     ]
    }
   ],
   "source": [
    "number = 100\n",
    "padded_number = \"{:06d}\".format(number)  # Total length of 6 characters\n",
    "print(padded_number)"
   ]
  },
  {
   "cell_type": "markdown",
   "id": "d1182db9-ffa8-4085-a666-547f4a47bc98",
   "metadata": {},
   "source": [
    "In \"%04d\": %0 indicates zero-padding, 4 specifies the total width, and d indicates an integer."
   ]
  },
  {
   "cell_type": "code",
   "execution_count": 4,
   "id": "b16e4889-c515-4fb0-92b0-552373d0aaf9",
   "metadata": {},
   "outputs": [
    {
     "name": "stdout",
     "output_type": "stream",
     "text": [
      "0009\n"
     ]
    }
   ],
   "source": [
    "number = 9\n",
    "padded_number = \"%04d\" % number  # Total length of 4 characters\n",
    "print(padded_number)"
   ]
  },
  {
   "cell_type": "code",
   "execution_count": 7,
   "id": "6d0f6dc7-d8b6-4c0d-a868-880b8303c30d",
   "metadata": {},
   "outputs": [
    {
     "name": "stdout",
     "output_type": "stream",
     "text": [
      "000011\n"
     ]
    }
   ],
   "source": [
    "# rjust\n",
    "num = 11\n",
    "padded_num = str(num).rjust(6, '0')\n",
    "print(padded_num)  # Output: 000011"
   ]
  },
  {
   "cell_type": "code",
   "execution_count": null,
   "id": "30c3affd-35f4-446c-bddd-298967690a6d",
   "metadata": {},
   "outputs": [],
   "source": []
  }
 ],
 "metadata": {
  "kernelspec": {
   "display_name": "Python [conda env:py311b]",
   "language": "python",
   "name": "conda-env-py311b-py"
  },
  "language_info": {
   "codemirror_mode": {
    "name": "ipython",
    "version": 3
   },
   "file_extension": ".py",
   "mimetype": "text/x-python",
   "name": "python",
   "nbconvert_exporter": "python",
   "pygments_lexer": "ipython3",
   "version": "3.11.13"
  },
  "widgets": {
   "application/vnd.jupyter.widget-state+json": {
    "state": {},
    "version_major": 2,
    "version_minor": 0
   }
  }
 },
 "nbformat": 4,
 "nbformat_minor": 5
}
