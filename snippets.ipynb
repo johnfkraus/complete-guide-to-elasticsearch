{
 "cells": [
  {
   "cell_type": "markdown",
   "id": "2787aa5f-ea96-470e-a23b-4868e6bd91db",
   "metadata": {},
   "source": [
    "# Snippets"
   ]
  },
  {
   "cell_type": "code",
   "execution_count": 1,
   "id": "3446e608-963d-4e76-b6c1-b02175fad98e",
   "metadata": {},
   "outputs": [],
   "source": [
    "import subprocess\n",
    "import json\n",
    "\n",
    "def catit2(mystring):\n",
    "    print(f\"parameter {type(mystring)=}\")\n",
    "    if not isinstance(mystring, str):\n",
    "        mystring = json.dumps(mystring, indent=4)\n",
    "        print(f\"converted parameter to {type(mystring)=}\")\n",
    "\n",
    "    temp_file_path = 'mystring.json'\n",
    "    with open(temp_file_path, 'w') as f:\n",
    "        f.write(mystring)\n",
    "\n",
    "    result = subprocess.run(['cat', temp_file_path], capture_output=True, text=True)\n",
    "    return_value = result.stdout\n",
    "    print(f\"returning {type(return_value)=}\")\n",
    "    print(result.stdout)"
   ]
  },
  {
   "cell_type": "code",
   "execution_count": null,
   "id": "b0e6ffe0-fa42-4a8f-8aaa-8f3f8ab29dd7",
   "metadata": {},
   "outputs": [],
   "source": []
  }
 ],
 "metadata": {
  "kernelspec": {
   "display_name": "Python [conda env:py311b]",
   "language": "python",
   "name": "conda-env-py311b-py"
  },
  "language_info": {
   "codemirror_mode": {
    "name": "ipython",
    "version": 3
   },
   "file_extension": ".py",
   "mimetype": "text/x-python",
   "name": "python",
   "nbconvert_exporter": "python",
   "pygments_lexer": "ipython3",
   "version": "3.11.13"
  },
  "widgets": {
   "application/vnd.jupyter.widget-state+json": {
    "state": {},
    "version_major": 2,
    "version_minor": 0
   }
  }
 },
 "nbformat": 4,
 "nbformat_minor": 5
}
