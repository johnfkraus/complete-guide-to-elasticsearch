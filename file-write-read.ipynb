{
 "cells": [
  {
   "cell_type": "code",
   "execution_count": null,
   "id": "initial_id",
   "metadata": {
    "collapsed": true
   },
   "outputs": [],
   "source": [
    "Here's how to work with JSON files in Python:\n",
    "\n",
    "## Writing JSON to a File\n",
    "\n",
    "```python\n",
    "import json\n",
    "\n",
    "# Your data (dictionary, list, etc.)\n",
    "data = {\n",
    "    \"name\": \"Alice\",\n",
    "    \"age\": 30,\n",
    "    \"city\": \"New York\",\n",
    "    \"hobbies\": [\"reading\", \"hiking\", \"photography\"]\n",
    "}\n",
    "\n",
    "# Write to file\n",
    "with open('data.json', 'w') as file:\n",
    "    json.dump(data, file, indent=4)  # indent=4 makes it readable\n",
    "```\n",
    "\n",
    "## Reading JSON from a File\n",
    "\n",
    "```python\n",
    "import json\n",
    "\n",
    "# Read from file into a dictionary\n",
    "with open('data.json', 'r') as file:\n",
    "    data = json.load(file)\n",
    "\n",
    "print(data)  # {'name': 'Alice', 'age': 30, ...}\n",
    "print(data['name'])  # Alice\n",
    "```\n",
    "\n",
    "## Key Points\n",
    "\n",
    "- **`json.dump()`** - writes Python object to a file\n",
    "- **`json.load()`** - reads JSON file into Python object (usually a dict or list)\n",
    "- **`indent=4`** - optional parameter that formats the JSON nicely with indentation\n",
    "- **`with open()`** - automatically closes the file when done\n",
    "\n",
    "If you're working with JSON strings instead of files, you can use:\n",
    "- `json.dumps()` - converts Python object to JSON string\n",
    "- `json.loads()` - converts JSON string to Python object"
   ]
  },
  {
   "metadata": {},
   "cell_type": "markdown",
   "source": "",
   "id": "8147859a9130ccf7"
  }
 ],
 "metadata": {
  "kernelspec": {
   "display_name": "Python 3",
   "language": "python",
   "name": "python3"
  },
  "language_info": {
   "codemirror_mode": {
    "name": "ipython",
    "version": 2
   },
   "file_extension": ".py",
   "mimetype": "text/x-python",
   "name": "python",
   "nbconvert_exporter": "python",
   "pygments_lexer": "ipython2",
   "version": "2.7.6"
  }
 },
 "nbformat": 4,
 "nbformat_minor": 5
}
