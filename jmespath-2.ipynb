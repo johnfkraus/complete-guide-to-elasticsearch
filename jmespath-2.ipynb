{
 "cells": [
  {
   "cell_type": "code",
   "execution_count": 19,
   "id": "4c953e71-cd79-4648-8580-7ae84d8a0997",
   "metadata": {},
   "outputs": [],
   "source": [
    "import jmespath\n",
    "import pandas as pd"
   ]
  },
  {
   "cell_type": "code",
   "execution_count": 36,
   "id": "29273af5-dcfc-48d1-8691-2004866f7a94",
   "metadata": {},
   "outputs": [],
   "source": [
    "data = [\n",
    "    {\n",
    "      \"name\": \"iPhone\",\n",
    "      \"price\": 999,\n",
    "      \"visa\": [\n",
    "          {\n",
    "              \"class\": \"A1\",\n",
    "              \"number\": 1234\n",
    "          },\n",
    "          {\n",
    "              \"class\": \"A2\",\n",
    "              \"number\": 1134\n",
    "          }\n",
    "      ]\n",
    "    },\n",
    "    {\n",
    "      \"name\": \"Samsung Galaxy\",\n",
    "      \"price\": 899,\n",
    "              \"visa\": [\n",
    "          {\n",
    "              \"class\": \"A1\",\n",
    "              \"number\": 1234\n",
    "          },\n",
    "          {\n",
    "              \"class\": \"B2\",\n",
    "              \"number\": 1134\n",
    "          }\n",
    "      ]\n",
    "    },\n",
    "    {\n",
    "      \"name\": \"Google Pixel\",\n",
    "      \"price\": 799,\n",
    "              \"visa\": [\n",
    "          {\n",
    "              \"class\": \"B1\",\n",
    "              \"number\": 1234\n",
    "          },\n",
    "          {\n",
    "              \"class\": \"B1/B2\",\n",
    "              \"number\": 1134\n",
    "          }\n",
    "      ]\n",
    "    },\n",
    "    {\n",
    "      \"name\": \"OnePlus\",\n",
    "      \"price\": 699,\n",
    "              \"visa\": [\n",
    "          {\n",
    "              \"class\": \"X4\",\n",
    "              \"number\": 1234\n",
    "          }\n",
    "      ]\n",
    "    }\n",
    "  ]\n"
   ]
  },
  {
   "cell_type": "code",
   "execution_count": 38,
   "id": "3e35a834-56b1-4a88-837a-3eadb5cee078",
   "metadata": {},
   "outputs": [
    {
     "name": "stdout",
     "output_type": "stream",
     "text": [
      "4\n"
     ]
    }
   ],
   "source": [
    "print(jmespath.search('length(@)', data))"
   ]
  },
  {
   "cell_type": "code",
   "execution_count": 39,
   "id": "fa8dc1e3-8218-4f5d-a310-28ffda2ed82c",
   "metadata": {},
   "outputs": [
    {
     "name": "stdout",
     "output_type": "stream",
     "text": [
      "[{'name': 'iPhone', 'price': 999}, {'name': 'Samsung Galaxy', 'price': 899}, {'name': 'Google Pixel', 'price': 799}, {'name': 'OnePlus', 'price': 699}]\n"
     ]
    }
   ],
   "source": [
    "print(jmespath.search('[].{name: name, price:price}', data))"
   ]
  },
  {
   "cell_type": "code",
   "execution_count": 40,
   "id": "6cfa0b1d-630d-4f21-bf91-446e6bfee788",
   "metadata": {},
   "outputs": [],
   "source": [
    "list1 = jmespath.search('[].{name: name, price:price}', data)"
   ]
  },
  {
   "cell_type": "code",
   "execution_count": 41,
   "id": "63b91b20-cba6-4ba7-87fc-c46232e5f25a",
   "metadata": {},
   "outputs": [],
   "source": [
    "df = pd.DataFrame.from_dict(list1)"
   ]
  },
  {
   "cell_type": "code",
   "execution_count": 42,
   "id": "22c6757e-0a55-4e7a-b55c-741a0eec72fe",
   "metadata": {},
   "outputs": [
    {
     "data": {
      "text/html": [
       "<div>\n",
       "<style scoped>\n",
       "    .dataframe tbody tr th:only-of-type {\n",
       "        vertical-align: middle;\n",
       "    }\n",
       "\n",
       "    .dataframe tbody tr th {\n",
       "        vertical-align: top;\n",
       "    }\n",
       "\n",
       "    .dataframe thead th {\n",
       "        text-align: right;\n",
       "    }\n",
       "</style>\n",
       "<table border=\"1\" class=\"dataframe\">\n",
       "  <thead>\n",
       "    <tr style=\"text-align: right;\">\n",
       "      <th></th>\n",
       "      <th>name</th>\n",
       "      <th>price</th>\n",
       "    </tr>\n",
       "  </thead>\n",
       "  <tbody>\n",
       "    <tr>\n",
       "      <th>0</th>\n",
       "      <td>iPhone</td>\n",
       "      <td>999</td>\n",
       "    </tr>\n",
       "    <tr>\n",
       "      <th>1</th>\n",
       "      <td>Samsung Galaxy</td>\n",
       "      <td>899</td>\n",
       "    </tr>\n",
       "    <tr>\n",
       "      <th>2</th>\n",
       "      <td>Google Pixel</td>\n",
       "      <td>799</td>\n",
       "    </tr>\n",
       "    <tr>\n",
       "      <th>3</th>\n",
       "      <td>OnePlus</td>\n",
       "      <td>699</td>\n",
       "    </tr>\n",
       "  </tbody>\n",
       "</table>\n",
       "</div>"
      ],
      "text/plain": [
       "             name  price\n",
       "0          iPhone    999\n",
       "1  Samsung Galaxy    899\n",
       "2    Google Pixel    799\n",
       "3         OnePlus    699"
      ]
     },
     "execution_count": 42,
     "metadata": {},
     "output_type": "execute_result"
    }
   ],
   "source": [
    "df"
   ]
  },
  {
   "cell_type": "code",
   "execution_count": 43,
   "id": "a86cabb1-f0b8-4860-8e21-18a462f13c21",
   "metadata": {},
   "outputs": [
    {
     "name": "stdout",
     "output_type": "stream",
     "text": [
      "[2, 2, 2, 1]\n"
     ]
    }
   ],
   "source": [
    "print(jmespath.search('[].visa.length(@)', data))"
   ]
  },
  {
   "cell_type": "code",
   "execution_count": 44,
   "id": "38824bae-4840-43ae-9535-f49a7464a5eb",
   "metadata": {},
   "outputs": [],
   "source": [
    "list2 = jmespath.search('[].{name: name, price:price, visa:visa}', data)"
   ]
  },
  {
   "cell_type": "code",
   "execution_count": 45,
   "id": "55bd159a-29c7-4951-9b6d-500e9fd687b8",
   "metadata": {},
   "outputs": [
    {
     "data": {
      "text/html": [
       "<div>\n",
       "<style scoped>\n",
       "    .dataframe tbody tr th:only-of-type {\n",
       "        vertical-align: middle;\n",
       "    }\n",
       "\n",
       "    .dataframe tbody tr th {\n",
       "        vertical-align: top;\n",
       "    }\n",
       "\n",
       "    .dataframe thead th {\n",
       "        text-align: right;\n",
       "    }\n",
       "</style>\n",
       "<table border=\"1\" class=\"dataframe\">\n",
       "  <thead>\n",
       "    <tr style=\"text-align: right;\">\n",
       "      <th></th>\n",
       "      <th>name</th>\n",
       "      <th>price</th>\n",
       "      <th>visa</th>\n",
       "    </tr>\n",
       "  </thead>\n",
       "  <tbody>\n",
       "    <tr>\n",
       "      <th>0</th>\n",
       "      <td>iPhone</td>\n",
       "      <td>999</td>\n",
       "      <td>[{'class': 'A1', 'number': 1234}, {'class': 'A...</td>\n",
       "    </tr>\n",
       "    <tr>\n",
       "      <th>1</th>\n",
       "      <td>Samsung Galaxy</td>\n",
       "      <td>899</td>\n",
       "      <td>[{'class': 'A1', 'number': 1234}, {'class': 'B...</td>\n",
       "    </tr>\n",
       "    <tr>\n",
       "      <th>2</th>\n",
       "      <td>Google Pixel</td>\n",
       "      <td>799</td>\n",
       "      <td>[{'class': 'B1', 'number': 1234}, {'class': 'B...</td>\n",
       "    </tr>\n",
       "    <tr>\n",
       "      <th>3</th>\n",
       "      <td>OnePlus</td>\n",
       "      <td>699</td>\n",
       "      <td>[{'class': 'X4', 'number': 1234}]</td>\n",
       "    </tr>\n",
       "  </tbody>\n",
       "</table>\n",
       "</div>"
      ],
      "text/plain": [
       "             name  price                                               visa\n",
       "0          iPhone    999  [{'class': 'A1', 'number': 1234}, {'class': 'A...\n",
       "1  Samsung Galaxy    899  [{'class': 'A1', 'number': 1234}, {'class': 'B...\n",
       "2    Google Pixel    799  [{'class': 'B1', 'number': 1234}, {'class': 'B...\n",
       "3         OnePlus    699                  [{'class': 'X4', 'number': 1234}]"
      ]
     },
     "execution_count": 45,
     "metadata": {},
     "output_type": "execute_result"
    }
   ],
   "source": [
    "df = pd.DataFrame.from_dict(list2)\n",
    "df"
   ]
  },
  {
   "cell_type": "code",
   "execution_count": 59,
   "id": "957034e2-011c-4965-8a4c-9d5b025e84b7",
   "metadata": {},
   "outputs": [
    {
     "data": {
      "text/html": [
       "<div>\n",
       "<style scoped>\n",
       "    .dataframe tbody tr th:only-of-type {\n",
       "        vertical-align: middle;\n",
       "    }\n",
       "\n",
       "    .dataframe tbody tr th {\n",
       "        vertical-align: top;\n",
       "    }\n",
       "\n",
       "    .dataframe thead th {\n",
       "        text-align: right;\n",
       "    }\n",
       "</style>\n",
       "<table border=\"1\" class=\"dataframe\">\n",
       "  <thead>\n",
       "    <tr style=\"text-align: right;\">\n",
       "      <th></th>\n",
       "      <th>class</th>\n",
       "      <th>number</th>\n",
       "      <th>price</th>\n",
       "      <th>name</th>\n",
       "    </tr>\n",
       "  </thead>\n",
       "  <tbody>\n",
       "    <tr>\n",
       "      <th>0</th>\n",
       "      <td>A1</td>\n",
       "      <td>1234</td>\n",
       "      <td>999</td>\n",
       "      <td>iPhone</td>\n",
       "    </tr>\n",
       "    <tr>\n",
       "      <th>1</th>\n",
       "      <td>A2</td>\n",
       "      <td>1134</td>\n",
       "      <td>999</td>\n",
       "      <td>iPhone</td>\n",
       "    </tr>\n",
       "    <tr>\n",
       "      <th>2</th>\n",
       "      <td>A1</td>\n",
       "      <td>1234</td>\n",
       "      <td>899</td>\n",
       "      <td>Samsung Galaxy</td>\n",
       "    </tr>\n",
       "    <tr>\n",
       "      <th>3</th>\n",
       "      <td>B2</td>\n",
       "      <td>1134</td>\n",
       "      <td>899</td>\n",
       "      <td>Samsung Galaxy</td>\n",
       "    </tr>\n",
       "    <tr>\n",
       "      <th>4</th>\n",
       "      <td>B1</td>\n",
       "      <td>1234</td>\n",
       "      <td>799</td>\n",
       "      <td>Google Pixel</td>\n",
       "    </tr>\n",
       "    <tr>\n",
       "      <th>5</th>\n",
       "      <td>B1/B2</td>\n",
       "      <td>1134</td>\n",
       "      <td>799</td>\n",
       "      <td>Google Pixel</td>\n",
       "    </tr>\n",
       "    <tr>\n",
       "      <th>6</th>\n",
       "      <td>X4</td>\n",
       "      <td>1234</td>\n",
       "      <td>699</td>\n",
       "      <td>OnePlus</td>\n",
       "    </tr>\n",
       "  </tbody>\n",
       "</table>\n",
       "</div>"
      ],
      "text/plain": [
       "   class  number price            name\n",
       "0     A1    1234   999          iPhone\n",
       "1     A2    1134   999          iPhone\n",
       "2     A1    1234   899  Samsung Galaxy\n",
       "3     B2    1134   899  Samsung Galaxy\n",
       "4     B1    1234   799    Google Pixel\n",
       "5  B1/B2    1134   799    Google Pixel\n",
       "6     X4    1234   699         OnePlus"
      ]
     },
     "execution_count": 59,
     "metadata": {},
     "output_type": "execute_result"
    }
   ],
   "source": [
    "df2 = pd.json_normalize(data, 'visa', ['price', 'name'])\n",
    "df2"
   ]
  },
  {
   "cell_type": "code",
   "execution_count": 63,
   "id": "1141b3c8-3719-4013-b295-d31d8dd50209",
   "metadata": {},
   "outputs": [],
   "source": [
    "# https://pandas.pydata.org/pandas-docs/version/0.24.2/reference/api/pandas.io.json.json_normalize.html\n",
    "family = [\n",
    "  {\n",
    "    'id': 1,\n",
    "    'name': {\n",
    "      'first': 'Coleen',\n",
    "      'last': 'Volk'\n",
    "    }\n",
    "  },\n",
    "  {\n",
    "    'name': {\n",
    "      'given': 'Mose',\n",
    "      'family': 'Regner'\n",
    "    }\n",
    "  },\n",
    "  {\n",
    "    'id': 2,\n",
    "    'name': 'Faye Raker'\n",
    "  }\n",
    "]"
   ]
  },
  {
   "cell_type": "code",
   "execution_count": 64,
   "id": "fafcd62e-edb8-41ff-abf4-5edc644dfd6a",
   "metadata": {},
   "outputs": [
    {
     "data": {
      "text/html": [
       "<div>\n",
       "<style scoped>\n",
       "    .dataframe tbody tr th:only-of-type {\n",
       "        vertical-align: middle;\n",
       "    }\n",
       "\n",
       "    .dataframe tbody tr th {\n",
       "        vertical-align: top;\n",
       "    }\n",
       "\n",
       "    .dataframe thead th {\n",
       "        text-align: right;\n",
       "    }\n",
       "</style>\n",
       "<table border=\"1\" class=\"dataframe\">\n",
       "  <thead>\n",
       "    <tr style=\"text-align: right;\">\n",
       "      <th></th>\n",
       "      <th>id</th>\n",
       "      <th>name.first</th>\n",
       "      <th>name.last</th>\n",
       "      <th>name.given</th>\n",
       "      <th>name.family</th>\n",
       "      <th>name</th>\n",
       "    </tr>\n",
       "  </thead>\n",
       "  <tbody>\n",
       "    <tr>\n",
       "      <th>0</th>\n",
       "      <td>1.0</td>\n",
       "      <td>Coleen</td>\n",
       "      <td>Volk</td>\n",
       "      <td>NaN</td>\n",
       "      <td>NaN</td>\n",
       "      <td>NaN</td>\n",
       "    </tr>\n",
       "    <tr>\n",
       "      <th>1</th>\n",
       "      <td>NaN</td>\n",
       "      <td>NaN</td>\n",
       "      <td>NaN</td>\n",
       "      <td>Mose</td>\n",
       "      <td>Regner</td>\n",
       "      <td>NaN</td>\n",
       "    </tr>\n",
       "    <tr>\n",
       "      <th>2</th>\n",
       "      <td>2.0</td>\n",
       "      <td>NaN</td>\n",
       "      <td>NaN</td>\n",
       "      <td>NaN</td>\n",
       "      <td>NaN</td>\n",
       "      <td>Faye Raker</td>\n",
       "    </tr>\n",
       "  </tbody>\n",
       "</table>\n",
       "</div>"
      ],
      "text/plain": [
       "    id name.first name.last name.given name.family        name\n",
       "0  1.0     Coleen      Volk        NaN         NaN         NaN\n",
       "1  NaN        NaN       NaN       Mose      Regner         NaN\n",
       "2  2.0        NaN       NaN        NaN         NaN  Faye Raker"
      ]
     },
     "execution_count": 64,
     "metadata": {},
     "output_type": "execute_result"
    }
   ],
   "source": [
    "df = pd.json_normalize(family)\n",
    "df"
   ]
  },
  {
   "cell_type": "code",
   "execution_count": null,
   "id": "fa812e64-5124-40a2-a902-0e1fd541d02e",
   "metadata": {},
   "outputs": [],
   "source": []
  }
 ],
 "metadata": {
  "kernelspec": {
   "display_name": "Python [conda env:py311b]",
   "language": "python",
   "name": "conda-env-py311b-py"
  },
  "language_info": {
   "codemirror_mode": {
    "name": "ipython",
    "version": 3
   },
   "file_extension": ".py",
   "mimetype": "text/x-python",
   "name": "python",
   "nbconvert_exporter": "python",
   "pygments_lexer": "ipython3",
   "version": "3.11.13"
  },
  "widgets": {
   "application/vnd.jupyter.widget-state+json": {
    "state": {},
    "version_major": 2,
    "version_minor": 0
   }
  }
 },
 "nbformat": 4,
 "nbformat_minor": 5
}
