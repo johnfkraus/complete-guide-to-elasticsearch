{
 "cells": [
  {
   "cell_type": "markdown",
   "id": "7f999a54-e68a-43b4-ae99-66e652654548",
   "metadata": {},
   "source": [
    "Excellent request — JMESPath is a powerful query language for working with JSON in Python, and mastering it allows you to slice, filter, and transform data very efficiently.\n",
    "\n",
    "Below is a **comprehensive list of practical JMESPath examples** using the `jmespath` Python library. These examples go from simple to complex and include **functions**, **filters**, and **aggregations**.\n",
    "\n",
    "\n",
    "\n",
    "### 🔧 Setup"
   ]
  },
  {
   "cell_type": "code",
   "execution_count": 3,
   "id": "29ee674b-3d69-4068-a4c4-c7ceeb79e27d",
   "metadata": {},
   "outputs": [],
   "source": [
    "import jmespath"
   ]
  },
  {
   "cell_type": "markdown",
   "id": "585d7b53-ee21-4e0a-96ce-b7abdfa2389c",
   "metadata": {},
   "source": [
    "Assume we’re working with this sample JSON structure (representing a simple dataset):"
   ]
  },
  {
   "cell_type": "code",
   "execution_count": 4,
   "id": "51aee3a0-38f0-45ae-9ffc-f46c414a986c",
   "metadata": {},
   "outputs": [],
   "source": [
    "data = {\n",
    "    \"employees\": [\n",
    "        {\"name\": \"Alice\", \"age\": 30, \"department\": \"Engineering\", \"salary\": 90000, \"skills\": [\"Python\", \"AWS\", \"Docker\"]},\n",
    "        {\"name\": \"Bob\", \"age\": 25, \"department\": \"Design\", \"salary\": 70000, \"skills\": [\"Photoshop\", \"Figma\"]},\n",
    "        {\"name\": \"Charlie\", \"age\": 35, \"department\": \"Engineering\", \"salary\": 120000, \"skills\": [\"Python\", \"Kubernetes\", \"Terraform\"]},\n",
    "        {\"name\": \"Diana\", \"age\": 40, \"department\": \"HR\", \"salary\": 95000, \"skills\": [\"Recruiting\", \"Communication\"]}\n",
    "    ],\n",
    "    \"company\": {\n",
    "        \"name\": \"TechCorp\",\n",
    "        \"founded\": 2005,\n",
    "        \"offices\": [{\"city\": \"New York\"}, {\"city\": \"San Francisco\"}, {\"city\": \"London\"}]\n",
    "    }\n",
    "}"
   ]
  },
  {
   "cell_type": "markdown",
   "id": "a7bdcbeb-62f0-41ed-bc9a-d0eaaa6c37a2",
   "metadata": {},
   "source": [
    "## 🧭 1. Basic Queries\n",
    "\n",
    "### Get all employee names"
   ]
  },
  {
   "cell_type": "code",
   "execution_count": null,
   "id": "8d5b9450-cc7f-40b7-a05c-97bd56a7df0d",
   "metadata": {},
   "outputs": [],
   "source": [
    "jmespath.search('employees[].name', data)\n",
    "# → ['Alice', 'Bob', 'Charlie', 'Diana']"
   ]
  },
  {
   "cell_type": "code",
   "execution_count": null,
   "id": "a23013d1-c629-4a43-985c-0e0045b83b54",
   "metadata": {},
   "outputs": [],
   "source": [
    "### Get the name of the first employee"
   ]
  },
  {
   "cell_type": "code",
   "execution_count": null,
   "id": "23d174af-6a7b-4f88-85fd-4e8671581e56",
   "metadata": {},
   "outputs": [],
   "source": [
    "jmespath.search('employees[0].name', data)"
   ]
  },
  {
   "cell_type": "code",
   "execution_count": null,
   "id": "2fc3f712-04b1-4f74-a891-123d5e03a355",
   "metadata": {},
   "outputs": [],
   "source": [
    "# → 'Alice'\n",
    "```\n",
    "\n",
    "### Get all departments (deduplicated using a function)"
   ]
  },
  {
   "cell_type": "code",
   "execution_count": null,
   "id": "d4ecb565-9694-4100-bf97-330b5040d08b",
   "metadata": {},
   "outputs": [],
   "source": [
    "```python\n",
    "jmespath.search('unique(employees[].department)', data)\n",
    "# → ['Engineering', 'Design', 'HR']\n",
    "```\n",
    "\n",
    "---"
   ]
  },
  {
   "cell_type": "code",
   "execution_count": null,
   "id": "9655267a-c63f-453b-a01c-14493671c2ee",
   "metadata": {},
   "outputs": [],
   "source": [
    "## 🧮 2. Filtering and Conditions\n",
    "\n",
    "### Employees in the Engineering department"
   ]
  },
  {
   "cell_type": "code",
   "execution_count": null,
   "id": "abd4001d-9b61-4a68-a7c8-2a1cae1a8ea2",
   "metadata": {},
   "outputs": [],
   "source": [
    "```python\n",
    "jmespath.search('employees[?department == `Engineering`].name', data)\n",
    "# → ['Alice', 'Charlie']\n",
    "```"
   ]
  },
  {
   "cell_type": "code",
   "execution_count": null,
   "id": "a3ade0cf-a180-45cb-a34e-237c982e8067",
   "metadata": {},
   "outputs": [],
   "source": [
    "### Employees with salary > 90000"
   ]
  },
  {
   "cell_type": "code",
   "execution_count": null,
   "id": "b3a30e3c-af39-4e58-bc52-8a412ea2ffee",
   "metadata": {},
   "outputs": [],
   "source": [
    "```python\n",
    "jmespath.search('employees[?salary > `90000`].name', data)\n",
    "# → ['Charlie', 'Diana']\n",
    "```\n",
    "\n",
    "### Combine filters with logical operators"
   ]
  },
  {
   "cell_type": "code",
   "execution_count": null,
   "id": "ce14ff32-dabf-4e7f-815c-b33bc4d5bfd3",
   "metadata": {},
   "outputs": [],
   "source": [
    "```python\n",
    "jmespath.search('employees[?salary > `80000` && department == `Engineering`].name', data)\n",
    "# → ['Alice', 'Charlie']\n",
    "```"
   ]
  },
  {
   "cell_type": "code",
   "execution_count": null,
   "id": "5df74789-f842-4403-8e09-aa3f6a16af7b",
   "metadata": {},
   "outputs": [],
   "source": [
    "---\n",
    "\n",
    "## 🧰 3. Using Functions\n",
    "\n",
    "JMESPath provides many built-in functions — here are some practical ones.\n",
    "\n",
    "### Sort by salary"
   ]
  },
  {
   "cell_type": "code",
   "execution_count": null,
   "id": "57310f30-9a78-441e-90b8-16c4e3bec228",
   "metadata": {},
   "outputs": [],
   "source": [
    "```python\n",
    "jmespath.search('sort_by(employees, &salary)[].name', data)\n",
    "# → ['Bob', 'Alice', 'Diana', 'Charlie']\n",
    "```"
   ]
  },
  {
   "cell_type": "code",
   "execution_count": null,
   "id": "b5ea02b6-b9de-44fb-b24e-fd72712da728",
   "metadata": {},
   "outputs": [],
   "source": [
    "### Maximum salary\n",
    "\n",
    "```python\n",
    "jmespath.search('max_by(employees, &salary).name', data)\n",
    "# → 'Charlie'\n",
    "```"
   ]
  },
  {
   "cell_type": "code",
   "execution_count": null,
   "id": "bee229e7-c0d4-4c0c-a124-992072e883f7",
   "metadata": {},
   "outputs": [],
   "source": [
    "### Minimum salary\n",
    "\n",
    "```python\n",
    "jmespath.search('min_by(employees, &salary).name', data)\n",
    "# → 'Bob'\n",
    "```"
   ]
  },
  {
   "cell_type": "code",
   "execution_count": null,
   "id": "5c341261-041f-4cf9-8c63-33453219c4e4",
   "metadata": {},
   "outputs": [],
   "source": [
    "### Length (count of employees)\n",
    "\n",
    "```python\n",
    "jmespath.search('length(employees)', data)\n",
    "# → 4\n",
    "```"
   ]
  },
  {
   "cell_type": "code",
   "execution_count": null,
   "id": "00faabb1-fc04-488e-988c-8305cebf9489",
   "metadata": {},
   "outputs": [],
   "source": [
    "### Average salary (JMESPath doesn’t have `avg()` built-in, but you can compute manually)\n",
    "\n",
    "JMESPath itself doesn’t support arithmetic, but you can use Python:"
   ]
  },
  {
   "cell_type": "code",
   "execution_count": null,
   "id": "40ba1a62-b086-428b-ad8f-4f523b6a2340",
   "metadata": {},
   "outputs": [],
   "source": [
    "```python\n",
    "salaries = jmespath.search('employees[].salary', data)\n",
    "avg_salary = sum(salaries) / len(salaries)\n",
    "# → 93750.0\n",
    "```"
   ]
  },
  {
   "cell_type": "markdown",
   "id": "54da2aaf-5af1-4a7b-91ce-6c019c923128",
   "metadata": {},
   "source": [
    "---\n",
    "\n",
    "## 🔍 4. Complex Nested Queriesm\n",
    "\n",
    "### Get names and primary skill of each employee"
   ]
  },
  {
   "cell_type": "code",
   "execution_count": null,
   "id": "e37adf04-85f1-4a98-baec-2b03c1cba550",
   "metadata": {},
   "outputs": [],
   "source": [
    "```python\n",
    "jmespath.search('employees[].{name: name, primary_skill: skills[0]}', data)\n",
    "# → [{'name': 'Alice', 'primary_skill': 'Python'}, ...]\n",
    "```"
   ]
  },
  {
   "cell_type": "code",
   "execution_count": null,
   "id": "f467f8c6-0159-4427-b9f2-e820def8bac8",
   "metadata": {},
   "outputs": [],
   "source": [
    "### Build a custom structure with company and employee info"
   ]
  },
  {
   "cell_type": "code",
   "execution_count": 7,
   "id": "00ac8a8d-b54e-428c-88ee-9b374962fa4b",
   "metadata": {},
   "outputs": [
    {
     "ename": "SyntaxError",
     "evalue": "invalid syntax (3747213036.py, line 1)",
     "output_type": "error",
     "traceback": [
      "  \u001b[36mCell\u001b[39m\u001b[36m \u001b[39m\u001b[32mIn[7]\u001b[39m\u001b[32m, line 1\u001b[39m\n\u001b[31m    \u001b[39m\u001b[31m```python\u001b[39m\n    ^\n\u001b[31mSyntaxError\u001b[39m\u001b[31m:\u001b[39m invalid syntax\n"
     ]
    }
   ],
   "source": [
    "```python\n",
    "jmespath.search('{company: company.name, engineers: employees[?department==`Engineering`].name}', data)\n",
    "# → {'company': 'TechCorp', 'engineers': ['Alice', 'Charlie']}\n",
    "```"
   ]
  },
  {
   "cell_type": "markdown",
   "id": "1339a6a6-23c0-4066-919c-295f24eb171b",
   "metadata": {},
   "source": [
    "## 🔢 5. String and List Functions\n",
    "\n",
    "### Lowercase employee names"
   ]
  },
  {
   "cell_type": "code",
   "execution_count": null,
   "id": "0636188e-c1cc-49c3-9ccf-8473ba5a1e06",
   "metadata": {},
   "outputs": [],
   "source": [
    "```python\n",
    "jmespath.search('employees[].to_lower(name)', data)\n",
    "# → ['alice', 'bob', 'charlie', 'diana']\n",
    "```"
   ]
  },
  {
   "cell_type": "markdown",
   "id": "86a41862-dfaa-4975-b632-9541fa4de5e8",
   "metadata": {},
   "source": [
    "### Find employees whose skills include \"Python\""
   ]
  },
  {
   "cell_type": "code",
   "execution_count": null,
   "id": "dcf76823-fbc3-42ae-81cb-9369fd598e84",
   "metadata": {},
   "outputs": [],
   "source": [
    "```python\n",
    "jmespath.search('employees[?contains(skills, `Python`)].name', data)\n",
    "# → ['Alice', 'Charlie']\n",
    "```"
   ]
  },
  {
   "cell_type": "markdown",
   "id": "50a10402-0354-41e5-9d03-2772ab8d12ba",
   "metadata": {},
   "source": [
    "### Join skills into a comma-separated string (Python post-processing)"
   ]
  },
  {
   "cell_type": "code",
   "execution_count": 11,
   "id": "a3073965-a82b-47de-9fc0-7d6dd2388387",
   "metadata": {},
   "outputs": [
    {
     "ename": "SyntaxError",
     "evalue": "invalid syntax (3137887907.py, line 1)",
     "output_type": "error",
     "traceback": [
      "  \u001b[36mCell\u001b[39m\u001b[36m \u001b[39m\u001b[32mIn[11]\u001b[39m\u001b[32m, line 1\u001b[39m\n\u001b[31m    \u001b[39m\u001b[31m```python\u001b[39m\n    ^\n\u001b[31mSyntaxError\u001b[39m\u001b[31m:\u001b[39m invalid syntax\n"
     ]
    }
   ],
   "source": [
    "```python\n",
    "\", \".join(jmespath.search('employees[0].skills', data))\n",
    "# → 'Python, AWS, Docker'\n",
    "```"
   ]
  },
  {
   "cell_type": "code",
   "execution_count": null,
   "id": "3115d403-9494-428a-947b-d4b7fec27c5a",
   "metadata": {},
   "outputs": [],
   "source": [
    "## 🧮 6. Working with Nested Objects and Arrays\n",
    "\n",
    "### List of office cities"
   ]
  },
  {
   "cell_type": "code",
   "execution_count": null,
   "id": "a5da21dd-fa98-4ce9-863c-4fd21042814d",
   "metadata": {},
   "outputs": [],
   "source": [
    "```python\n",
    "jmespath.search('company.offices[].city', data)\n",
    "# → ['New York', 'San Francisco', 'London']\n",
    "```"
   ]
  },
  {
   "cell_type": "markdown",
   "id": "1251de41-a935-48cf-b1e8-b5c2adfaffa5",
   "metadata": {},
   "source": [
    "### The city of the last office"
   ]
  },
  {
   "cell_type": "code",
   "execution_count": null,
   "id": "c100a31e-c78b-45d6-84b4-e8c80f022863",
   "metadata": {},
   "outputs": [],
   "source": [
    "```python\n",
    "jmespath.search('company.offices[-1].city', data)\n",
    "# → 'London'\n",
    "```"
   ]
  },
  {
   "cell_type": "code",
   "execution_count": null,
   "id": "9fca6a53-1a14-4aec-bb4d-8fa29d7ea30d",
   "metadata": {},
   "outputs": [],
   "source": [
    "### Count how many offices"
   ]
  },
  {
   "cell_type": "code",
   "execution_count": 13,
   "id": "b850b833-dfa0-4467-b009-22e93e46ad8e",
   "metadata": {},
   "outputs": [
    {
     "ename": "SyntaxError",
     "evalue": "invalid syntax (3767099977.py, line 1)",
     "output_type": "error",
     "traceback": [
      "  \u001b[36mCell\u001b[39m\u001b[36m \u001b[39m\u001b[32mIn[13]\u001b[39m\u001b[32m, line 1\u001b[39m\n\u001b[31m    \u001b[39m\u001b[31m```python\u001b[39m\n    ^\n\u001b[31mSyntaxError\u001b[39m\u001b[31m:\u001b[39m invalid syntax\n"
     ]
    }
   ],
   "source": [
    "```python\n",
    "jmespath.search('length(company.offices)', data)\n",
    "# → 3\n",
    "```\n",
    "\n",
    "---"
   ]
  },
  {
   "cell_type": "markdown",
   "id": "b5f75e57-eb18-4c41-9427-9c56f14da93c",
   "metadata": {},
   "source": [
    "## 🧩 7. Combining Functions for More Complex Queries\n",
    "\n",
    "### Sort engineers by salary `descending"
   ]
  },
  {
   "cell_type": "code",
   "execution_count": 14,
   "id": "2b209e47-00c1-4526-a607-8203cfd9da66",
   "metadata": {},
   "outputs": [
    {
     "ename": "SyntaxError",
     "evalue": "invalid syntax (3918219577.py, line 1)",
     "output_type": "error",
     "traceback": [
      "  \u001b[36mCell\u001b[39m\u001b[36m \u001b[39m\u001b[32mIn[14]\u001b[39m\u001b[32m, line 1\u001b[39m\n\u001b[31m    \u001b[39m\u001b[31m```python\u001b[39m\n    ^\n\u001b[31mSyntaxError\u001b[39m\u001b[31m:\u001b[39m invalid syntax\n"
     ]
    }
   ],
   "source": [
    "```python\n",
    "jmespath.search('reverse(sort_by(employees[?department==`Engineering`], &salary))[].{name: name, salary: salary}', data)\n",
    "# → [{'name': 'Charlie', 'salary': 120000}, {'name': 'Alice', 'salary': 90000}]\n",
    "```"
   ]
  },
  {
   "cell_type": "code",
   "execution_count": null,
   "id": "ee6e58a2-66ed-46ed-b4f1-ecefc6370394",
   "metadata": {},
   "outputs": [],
   "source": [
    "### Get all employees over 30 and return names with uppercased"
   ]
  },
  {
   "cell_type": "code",
   "execution_count": null,
   "id": "ec6e5792-8d5a-4a98-8fe7-001aab39dba1",
   "metadata": {},
   "outputs": [],
   "source": [
    "```python\n",
    "jmespath.search('employees[?age > `30`].to_upper(name)', data)\n",
    "# → ['CHARLIE', 'DIANA']\n",
    "```"
   ]
  },
  {
   "cell_type": "code",
   "execution_count": null,
   "id": "839b0ac8-60b4-4c78-8185-16896f7d078e",
   "metadata": {},
   "outputs": [],
   "source": [
    "### Get the top-paid person’s department and name"
   ]
  },
  {
   "cell_type": "code",
   "execution_count": null,
   "id": "04584cf8-a479-4e7c-8868-ee79efad74e3",
   "metadata": {},
   "outputs": [],
   "source": [
    "```python\n",
    "jmespath.search('max_by(employees, &salary).{name: name, department: department}', data)\n",
    "# → {'name': 'Charlie', 'department': 'Engineering'}\n",
    "```"
   ]
  },
  {
   "cell_type": "code",
   "execution_count": null,
   "id": "df2aade5-71f1-4bae-adab-399dd94484ca",
   "metadata": {},
   "outputs": [],
   "source": [
    "---\n",
    "\n",
    "## ⚙️ 8. Advanced Example – Combine Filters, Functions, and Custom Structures\n",
    "\n",
    "### Example: Extract engineering employees earning above $95k, sorted by salary, with only name and skills"
   ]
  },
  {
   "cell_type": "code",
   "execution_count": null,
   "id": "e304dc85-fe78-4f89-8c9b-20663c7a5913",
   "metadata": {},
   "outputs": [],
   "source": [
    "```python\n",
    "query = (\n",
    "    'sort_by(employees[?department==`Engineering` && salary > `95000`], &salary)[].'\n",
    "    '{name: name, skills: skills}'\n",
    ")\n",
    "jmespath.search(query, data)\n",
    "# → [{'name': 'Charlie', 'skills': ['Python', 'Kubernetes', 'Terraform']}]\n",
    "```"
   ]
  },
  {
   "cell_type": "code",
   "execution_count": null,
   "id": "2c39ccdf-98fe-44a4-abe4-abe49d0229aa",
   "metadata": {},
   "outputs": [],
   "source": [
    "---\n",
    "\n",
    "## 🧪 9. Dynamic Querying from Python Variables\n",
    "\n",
    "You can inject Python variables dynamically:"
   ]
  },
  {
   "cell_type": "code",
   "execution_count": 1,
   "id": "529605cb-a222-4b46-ba32-bb1b318da74e",
   "metadata": {},
   "outputs": [
    {
     "ename": "SyntaxError",
     "evalue": "invalid syntax (2271628229.py, line 1)",
     "output_type": "error",
     "traceback": [
      "  \u001b[36mCell\u001b[39m\u001b[36m \u001b[39m\u001b[32mIn[1]\u001b[39m\u001b[32m, line 1\u001b[39m\n\u001b[31m    \u001b[39m\u001b[31m```python\u001b[39m\n    ^\n\u001b[31mSyntaxError\u001b[39m\u001b[31m:\u001b[39m invalid syntax\n"
     ]
    }
   ],
   "source": [
    "```python\n",
    "department = \"HR\"\n",
    "expression = f\"employees[?department=='{department}'].name\"\n",
    "jmespath.search(expression, data)\n",
    "# → ['Diana']\n",
    "```"
   ]
  },
  {
   "cell_type": "markdown",
   "id": "3531b674-0dd8-450d-94c8-6519361eb135",
   "metadata": {},
   "source": [
    "---\n",
    "\n",
    "### ✅ Summary of Commonly Used JMESPath Functions\n",
    "\n",
    "| Category                | Function                                                       | Description                         |\n",
    "| ----------------------- | -------------------------------------------------------------- | ----------------------------------- |\n",
    "| **Math / Aggregation**  | `max_by`, `min_by`, `sort_by`, `length`, `reverse`             | Sort and aggregate                  |\n",
    "| **String**              | `to_upper`, `to_lower`, `starts_with`, `ends_with`, `contains` | String transformations              |\n",
    "| **List / Collection**   | `contains`, `unique`, `join`, `reverse`                        | List manipulation                   |\n",
    "| **Object Construction** | `{key: value, ...}`                                            | Build new objects                   |\n",
    "| **Filtering**           | `[?expr]`                                                      | Conditional filtering               |\n",
    "| **Projection**          | `[].field`                                                     | Apply expression to all array items |\n",
    "\n",
    "---\n",
    "\n",
    "Would you like me to include **real-world JSON examples** (e.g., AWS CLI output or API responses) with advanced JMESPath queries next? Those tend to show the most useful real scenarios."
   ]
  },
  {
   "cell_type": "code",
   "execution_count": null,
   "id": "731ad2b8-7d28-4fb3-8ba7-6592d3569d0c",
   "metadata": {},
   "outputs": [],
   "source": [
    "Perfect 👍 — let’s take this to the next level.\n",
    "Here are **real-world JMESPath examples** drawn from typical **AWS CLI / API JSON outputs**, showing how to extract, filter, and summarize data using **complex expressions and functions**.\n",
    "\n",
    "All examples use the Python `jmespath` library but are equally valid for AWS CLI (`--query` option).\n",
    "\n",
    "---\n",
    "\n",
    "## 🌩️ 1. Example: AWS EC2 Describe Instances"
   ]
  },
  {
   "cell_type": "code",
   "execution_count": null,
   "id": "69bae4c5-6b63-4602-8255-51e3e467469b",
   "metadata": {},
   "outputs": [],
   "source": [
    "Assume this is the output of:"
   ]
  },
  {
   "cell_type": "code",
   "execution_count": null,
   "id": "366549a4-e4b2-4012-9954-607cb7395142",
   "metadata": {},
   "outputs": [],
   "source": [
    "```bash\n",
    "aws ec2 describe-instances --output json\n",
    "```"
   ]
  },
  {
   "cell_type": "code",
   "execution_count": null,
   "id": "511a4b5c-a0b3-4652-937b-80a5b77de22c",
   "metadata": {},
   "outputs": [],
   "source": [
    "```python\n",
    "ec2_data = {\n",
    "    \"Reservations\": [\n",
    "        {\n",
    "            \"Instances\": [\n",
    "                {\n",
    "                    \"InstanceId\": \"i-01\",\n",
    "                    \"State\": {\"Name\": \"running\"},\n",
    "                    \"Tags\": [{\"Key\": \"Name\", \"Value\": \"web-server-1\"}],\n",
    "                    \"InstanceType\": \"t3.micro\",\n",
    "                    \"AvailabilityZone\": \"us-east-1a\",\n",
    "                    \"LaunchTime\": \"2025-10-01T12:00:00Z\"\n",
    "                },\n",
    "                {\n",
    "                    \"InstanceId\": \"i-02\",\n",
    "                    \"State\": {\"Name\": \"stopped\"},\n",
    "                    \"Tags\": [{\"Key\": \"Name\", \"Value\": \"db-server-1\"}],\n",
    "                    \"InstanceType\": \"t3.medium\",\n",
    "                    \"AvailabilityZone\": \"us-east-1b\",\n",
    "                    \"LaunchTime\": \"2025-09-15T09:00:00Z\"\n",
    "                }\n",
    "            ]\n",
    "        }\n",
    "    ]\n",
    "}\n",
    "```"
   ]
  },
  {
   "cell_type": "code",
   "execution_count": null,
   "id": "41ef0019-6a20-441a-ac2c-a308d32b0aa1",
   "metadata": {},
   "outputs": [],
   "source": [
    "### 🔹 Get all instance IDs\n",
    "\n",
    "```python\n",
    "jmespath.search('Reservations[].Instances[].InstanceId', ec2_data)\n",
    "# → ['i-01', 'i-02']\n",
    "```"
   ]
  },
  {
   "cell_type": "code",
   "execution_count": null,
   "id": "652a4d85-9335-4871-b057-8e7b9f3f5b0c",
   "metadata": {},
   "outputs": [],
   "source": [
    "### 🔹 Get running instance names\n",
    "\n",
    "```python\n",
    "jmespath.search('Reservations[].Instances[?State.Name==`running`].Tags[?Key==`Name`].Value[]', ec2_data)\n",
    "# → ['web-server-1']\n",
    "```"
   ]
  },
  {
   "cell_type": "code",
   "execution_count": null,
   "id": "22fabeba-00e8-4e1d-923a-a87e24b3797b",
   "metadata": {},
   "outputs": [],
   "source": [
    "### 🔹 Build custom structure\n",
    "\n",
    "```python\n",
    "jmespath.search(\n",
    "    'Reservations[].Instances[].{id: InstanceId, name: Tags[?Key==`Name`].Value | [0], state: State.Name}', \n",
    "    ec2_data\n",
    ")\n",
    "# → [{'id': 'i-01', 'name': 'web-server-1', 'state': 'running'}, ...]\n",
    "```"
   ]
  },
  {
   "cell_type": "code",
   "execution_count": null,
   "id": "82d4c6d3-fd35-4a05-be48-1d9ee55f998b",
   "metadata": {},
   "outputs": [],
   "source": [
    "### 🔹 Count how many instances are running\n",
    "\n",
    "```python\n",
    "len(jmespath.search('Reservations[].Instances[?State.Name==`running`][]', ec2_data))\n",
    "# → 1\n",
    "```"
   ]
  },
  {
   "cell_type": "code",
   "execution_count": null,
   "id": "7bdc52a9-adf1-4d2c-a0a6-7eed07af3b36",
   "metadata": {},
   "outputs": [],
   "source": [
    "---\n",
    "\n",
    "## 🗄️ 2. Example: AWS S3 List Buckets\n",
    "\n",
    "```python\n",
    "s3_data = {\n",
    "    \"Buckets\": [\n",
    "        {\"Name\": \"logs-prod\", \"CreationDate\": \"2023-06-01T10:00:00Z\"},\n",
    "        {\"Name\": \"images-dev\", \"CreationDate\": \"2024-01-01T12:00:00Z\"},\n",
    "        {\"Name\": \"backups\", \"CreationDate\": \"2022-12-12T09:00:00Z\"}\n",
    "    ]\n",
    "}\n",
    "```"
   ]
  },
  {
   "cell_type": "code",
   "execution_count": null,
   "id": "863515b2-7d86-4aea-ba59-9a4bc428e247",
   "metadata": {},
   "outputs": [],
   "source": [
    "### 🔹 Get all bucket names\n",
    "\n",
    "```python\n",
    "jmespath.search('Buckets[].Name', s3_data)\n",
    "# → ['logs-prod', 'images-dev', 'backups']\n",
    "```"
   ]
  },
  {
   "cell_type": "code",
   "execution_count": null,
   "id": "8a3f3124-64ce-42d7-b8fc-133cbed51ebc",
   "metadata": {},
   "outputs": [],
   "source": [
    "### 🔹 Find the newest bucket\n",
    "\n",
    "```python\n",
    "jmespath.search('max_by(Buckets, &CreationDate).Name', s3_data)\n",
    "# → 'images-dev'\n",
    "```"
   ]
  },
  {
   "cell_type": "code",
   "execution_count": null,
   "id": "0efa7f86-75cb-4700-8fe5-d27839fae212",
   "metadata": {},
   "outputs": [],
   "source": [
    "### 🔹 Find all buckets with “prod” in their name\n",
    "\n",
    "```python\n",
    "jmespath.search('Buckets[?contains(Name, `prod`)].Name', s3_data)\n",
    "# → ['logs-prod']\n",
    "```"
   ]
  },
  {
   "cell_type": "code",
   "execution_count": null,
   "id": "e398e9f4-026e-4f3a-a410-91898fc1cc3b",
   "metadata": {},
   "outputs": [],
   "source": [
    "---\n",
    "\n",
    "## 🧑‍💻 3. Example: AWS IAM List Users\n",
    "\n",
    "```python\n",
    "iam_data = {\n",
    "    \"Users\": [\n",
    "        {\"UserName\": \"alice\", \"CreateDate\": \"2024-01-01T00:00:00Z\", \"Tags\": [{\"Key\": \"Dept\", \"Value\": \"Engineering\"}]},\n",
    "        {\"UserName\": \"bob\", \"CreateDate\": \"2023-01-01T00:00:00Z\", \"Tags\": [{\"Key\": \"Dept\", \"Value\": \"Finance\"}]},\n",
    "        {\"UserName\": \"carol\", \"CreateDate\": \"2025-03-01T00:00:00Z\", \"Tags\": [{\"Key\": \"Dept\", \"Value\": \"Engineering\"}]}\n",
    "    ]\n",
    "}\n",
    "```"
   ]
  },
  {
   "cell_type": "code",
   "execution_count": null,
   "id": "9e9dc40e-8c1a-44dd-84ff-0ab606ff0611",
   "metadata": {},
   "outputs": [],
   "source": [
    "### 🔹 Get all usernames in Engineering\n",
    "\n",
    "```python\n",
    "jmespath.search('Users[?Tags[?Key==`Dept`].Value | [0] == `Engineering`].UserName', iam_data)\n",
    "# → ['alice', 'carol']\n",
    "```"
   ]
  },
  {
   "cell_type": "code",
   "execution_count": null,
   "id": "fbb0d3ab-8d9b-42ce-abca-87eafc7e7823",
   "metadata": {},
   "outputs": [],
   "source": [
    "### 🔹 Sort users by creation date\n",
    "\n",
    "```python\n",
    "jmespath.search('sort_by(Users, &CreateDate)[].UserName', iam_data)\n",
    "# → ['bob', 'alice', 'carol']\n",
    "```"
   ]
  },
  {
   "cell_type": "code",
   "execution_count": null,
   "id": "99e2e482-c9e0-44e5-a6b3-9346760d7125",
   "metadata": {},
   "outputs": [],
   "source": [
    "### 🔹 Build a summary of departments → users\n",
    "\n",
    "```python\n",
    "# Python post-processing\n",
    "users = jmespath.search('Users[].{user: UserName, dept: Tags[?Key==`Dept`].Value | [0]}', iam_data)\n",
    "# → [{'user': 'alice', 'dept': 'Engineering'}, {'user': 'bob', 'dept': 'Finance'}, {'user': 'carol', 'dept': 'Engineering'}]\n",
    "```\n",
    "\n",
    "---"
   ]
  },
  {
   "cell_type": "code",
   "execution_count": null,
   "id": "21615924-1993-463c-addb-5ad62da00201",
   "metadata": {},
   "outputs": [],
   "source": [
    "## 📊 4. Example: AWS CloudWatch Metrics\n",
    "\n",
    "```python\n",
    "cw_data = {\n",
    "    \"Metrics\": [\n",
    "        {\"Namespace\": \"AWS/EC2\", \"MetricName\": \"CPUUtilization\", \"Dimensions\": [{\"Name\": \"InstanceId\", \"Value\": \"i-01\"}]},\n",
    "        {\"Namespace\": \"AWS/EC2\", \"MetricName\": \"DiskReadOps\", \"Dimensions\": [{\"Name\": \"InstanceId\", \"Value\": \"i-01\"}]},\n",
    "        {\"Namespace\": \"AWS/S3\", \"MetricName\": \"BucketSizeBytes\", \"Dimensions\": [{\"Name\": \"BucketName\", \"Value\": \"logs-prod\"}]}\n",
    "    ]\n",
    "}\n",
    "```\n",
    "\n",
    "### 🔹 Get all metric names for EC2\n",
    "\n",
    "```python\n",
    "jmespath.search('Metrics[?Namespace==`AWS/EC2`].MetricName', cw_data)\n",
    "# → ['CPUUtilization', 'DiskReadOps']\n",
    "```"
   ]
  },
  {
   "cell_type": "code",
   "execution_count": null,
   "id": "3bcb5782-447c-4246-99af-fd3ed8573e5b",
   "metadata": {},
   "outputs": [],
   "source": [
    "### 🔹 Get a unique list of namespaces\n",
    "\n",
    "```python\n",
    "jmespath.search('unique(Metrics[].Namespace)', cw_data)\n",
    "# → ['AWS/EC2', 'AWS/S3']\n",
    "```"
   ]
  },
  {
   "cell_type": "code",
   "execution_count": null,
   "id": "01f7c337-a234-4478-9714-a911167a64b9",
   "metadata": {},
   "outputs": [],
   "source": [
    "---\n",
    "\n",
    "## ☁️ 5. Example: AWS Lambda List Functions"
   ]
  },
  {
   "cell_type": "code",
   "execution_count": 16,
   "id": "3f1046bd-fafb-469e-8f76-209b8c380fc4",
   "metadata": {},
   "outputs": [
    {
     "ename": "SyntaxError",
     "evalue": "invalid syntax (2998555993.py, line 1)",
     "output_type": "error",
     "traceback": [
      "  \u001b[36mCell\u001b[39m\u001b[36m \u001b[39m\u001b[32mIn[16]\u001b[39m\u001b[32m, line 1\u001b[39m\n\u001b[31m    \u001b[39m\u001b[31m```python\u001b[39m\n    ^\n\u001b[31mSyntaxError\u001b[39m\u001b[31m:\u001b[39m invalid syntax\n"
     ]
    }
   ],
   "source": [
    "```python\n",
    "lambda_data = {\n",
    "    \"Functions\": [\n",
    "        {\"FunctionName\": \"resizeImage\", \"Runtime\": \"python3.9\", \"MemorySize\": 256, \"LastModified\": \"2025-05-05T12:00:00Z\"},\n",
    "        {\"FunctionName\": \"processLogs\", \"Runtime\": \"nodejs18.x\", \"MemorySize\": 512, \"LastModified\": \"2025-01-01T00:00:00Z\"},\n",
    "        {\"FunctionName\": \"analyzeData\", \"Runtime\": \"python3.12\", \"MemorySize\": 1024, \"LastModified\": \"2025-07-07T00:00:00Z\"}\n",
    "    ]\n",
    "}\n",
    "```"
   ]
  },
  {
   "cell_type": "code",
   "execution_count": null,
   "id": "9a885655-4c64-4fd4-ad76-f81bd2398284",
   "metadata": {},
   "outputs": [],
   "source": [
    "### 🔹 Get Python functions sorted by memory\n",
    "\n",
    "```python\n",
    "jmespath.search('sort_by(Functions[?starts_with(Runtime, `python`)], &MemorySize)[].FunctionName', lambda_data)\n",
    "# → ['resizeImage', 'analyzeData']\n",
    "```"
   ]
  },
  {
   "cell_type": "code",
   "execution_count": null,
   "id": "80d3a4c0-4710-482a-91d0-52300729f7d9",
   "metadata": {},
   "outputs": [],
   "source": [
    "### 🔹 Get most recently modified function\n",
    "\n",
    "```python\n",
    "jmespath.search('max_by(Functions, &LastModified).FunctionName', lambda_data)\n",
    "# → 'analyzeData'\n",
    "```\n",
    "\n",
    "---"
   ]
  },
  {
   "cell_type": "code",
   "execution_count": null,
   "id": "596f349f-0f4a-4623-8e38-092f11d6cf56",
   "metadata": {},
   "outputs": [],
   "source": [
    "## 🧠 6. Advanced Multi-Layer Query Example\n",
    "\n",
    "Imagine you want to build a **summary of EC2 instances per Availability Zone**, including only *running* ones.\n",
    "\n",
    "```python\n",
    "query = (\n",
    "    \"Reservations[].Instances[?State.Name==`running`].\"\n",
    "    \"{zone: AvailabilityZone, id: InstanceId, name: Tags[?Key==`Name`].Value | [0]}\"\n",
    ")\n",
    "results = jmespath.search(query, ec2_data)\n",
    "```\n",
    "\n",
    "```python\n",
    "# → [{'zone': 'us-east-1a', 'id': 'i-01', 'name': 'web-server-1'}]\n",
    "```"
   ]
  },
  {
   "cell_type": "code",
   "execution_count": null,
   "id": "4ac7db8b-d3b2-4c78-b274-47961f8908d5",
   "metadata": {},
   "outputs": [],
   "source": [
    "Then you can aggregate or group by zone in Python.\n",
    "\n",
    "---\n",
    "\n",
    "## 💡 7. Combining Python and JMESPath"
   ]
  },
  {
   "cell_type": "code",
   "execution_count": null,
   "id": "924fcdbd-b255-4571-955c-7c0263e2a79e",
   "metadata": {},
   "outputs": [],
   "source": [
    "JMESPath is **purely declarative** — it doesn’t do arithmetic, loops, or grouping —\n",
    "but combining it with Python gives you flexible power:"
   ]
  },
  {
   "cell_type": "code",
   "execution_count": null,
   "id": "f29674e7-91b6-4a66-8d24-b757eabf32cc",
   "metadata": {},
   "outputs": [
    {
     "ename": "SyntaxError",
     "evalue": "invalid character '—' (U+2014) (1333442233.py, line 7)",
     "output_type": "error",
     "traceback": [
      "  \u001b[36mCell\u001b[39m\u001b[36m \u001b[39m\u001b[32mIn[15]\u001b[39m\u001b[32m, line 7\u001b[39m\n\u001b[31m    \u001b[39m\u001b[31mJMESPath is **purely declarative** — it doesn’t do arithmetic, loops, or grouping —\u001b[39m\n                                       ^\n\u001b[31mSyntaxError\u001b[39m\u001b[31m:\u001b[39m invalid character '—' (U+2014)\n"
     ]
    }
   ],
   "source": [
    "```python\n",
    "instances = jmespath.search('Reservations[].Instances[]', ec2_data)\n",
    "zones = [i['AvailabilityZone'] for i in instances]\n",
    "zone_counts = {z: zones.count(z) for z in set(zones)}\n",
    "print(zone_counts)\n",
    "# → {'us-east-1a': 1, 'us-east-1b': 1}\n",
    "```"
   ]
  },
  {
   "cell_type": "markdown",
   "id": "bea1b9a4-ac7b-4d6b-8bf9-6cc62dc67e17",
   "metadata": {},
   "source": [
    "---\n",
    "\n",
    "## ✅ Summary: Useful JMESPath Functions in AWS Context\n",
    "\n",
    "| Function                            | Use Case           | Example                         |\n",
    "| ----------------------------------- | ------------------ | ------------------------------- |\n",
    "| `sort_by(array, &field)`            | Sort by attribute  | Sort EC2 by `LaunchTime`        |\n",
    "| `max_by(array, &field)`             | Find latest/newest | Latest Lambda function          |\n",
    "| `min_by(array, &field)`             | Find oldest        | Oldest IAM user                 |\n",
    "| `length(array)`                     | Count items        | Count S3 buckets                |\n",
    "| `contains(array, value)`            | Filter strings     | Buckets with “prod”             |\n",
    "| `starts_with(str, prefix)`          | Filter by prefix   | Functions with `python` runtime |\n",
    "| `unique(array)`                     | Remove duplicates  | Unique namespaces               |\n",
    "| `to_lower(str)`                     | Normalize names    | Lowercase usernames             |\n",
    "| `sort_by(...)[::-1]` or `reverse()` | Sort descending    | Highest salaries, etc.          |\n",
    "\n",
    "---\n",
    "\n",
    "Would you like me to include **examples of using JMESPath with `boto3` directly in Python** (e.g., querying live AWS responses efficiently without loops)? That’s the next level of real-world integration."
   ]
  },
  {
   "cell_type": "code",
   "execution_count": null,
   "id": "2b583915-cf31-48fa-a558-edd90be88683",
   "metadata": {},
   "outputs": [],
   "source": []
  }
 ],
 "metadata": {
  "kernelspec": {
   "display_name": "Python [conda env:py311b]",
   "language": "python",
   "name": "conda-env-py311b-py"
  },
  "language_info": {
   "codemirror_mode": {
    "name": "ipython",
    "version": 3
   },
   "file_extension": ".py",
   "mimetype": "text/x-python",
   "name": "python",
   "nbconvert_exporter": "python",
   "pygments_lexer": "ipython3",
   "version": "3.11.13"
  },
  "widgets": {
   "application/vnd.jupyter.widget-state+json": {
    "state": {},
    "version_major": 2,
    "version_minor": 0
   }
  }
 },
 "nbformat": 4,
 "nbformat_minor": 5
}
