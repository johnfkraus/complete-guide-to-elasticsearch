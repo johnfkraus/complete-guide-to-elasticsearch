{
 "cells": [
  {
   "cell_type": "markdown",
   "id": "7a9bed15-9f0f-4d4e-aeb2-f360354471cd",
   "metadata": {},
   "source": [
    "# Pandas json normalize\n",
    "\n",
    "\n"
   ]
  },
  {
   "cell_type": "code",
   "execution_count": 1,
   "id": "815d2472-3633-4e8a-b98c-ca1ecd7b060a",
   "metadata": {},
   "outputs": [
    {
     "name": "stdout",
     "output_type": "stream",
     "text": [
      "   id  name  info.age info.city\n",
      "0   1  John        30  New York\n",
      "1   2  Jane        25    London\n"
     ]
    }
   ],
   "source": [
    "import pandas as pd\n",
    "\n",
    "data = [\n",
    "    {\"id\": 1, \"name\": \"John\", \"info\": {\"age\": 30, \"city\": \"New York\"}},\n",
    "    {\"id\": 2, \"name\": \"Jane\", \"info\": {\"age\": 25, \"city\": \"London\"}}\n",
    "]\n",
    "\n",
    "df = pd.json_normalize(data)\n",
    "print(df)"
   ]
  },
  {
   "cell_type": "code",
   "execution_count": 2,
   "id": "a7fca078-f430-4415-b7b6-eef74e078758",
   "metadata": {},
   "outputs": [
    {
     "name": "stdout",
     "output_type": "stream",
     "text": [
      "   name  scores.math  scores.science    school\n",
      "0   Tom           90              85  ABC High\n",
      "1  Sara           95              92  ABC High\n"
     ]
    }
   ],
   "source": [
    "data = {\n",
    "    \"school\": \"ABC High\",\n",
    "    \"students\": [\n",
    "        {\"name\": \"Tom\", \"scores\": {\"math\": 90, \"science\": 85}},\n",
    "        {\"name\": \"Sara\", \"scores\": {\"math\": 95, \"science\": 92}}\n",
    "    ]\n",
    "}\n",
    "\n",
    "df = pd.json_normalize(data, record_path=['students'], meta=['school'])\n",
    "print(df)"
   ]
  },
  {
   "cell_type": "markdown",
   "id": "266f579e-24b5-473e-858a-690d9bc96c06",
   "metadata": {},
   "source": [
    "The students list is buried inside the JSON structure.\n",
    "\n",
    "record_path=['students'] digs into that list and flattens it.\n",
    "\n",
    "meta=['school'] pulls in the school name for every student.\n",
    "\n",
    "You might be wondering: “What if I didn’t use meta?”\n",
    "\n",
    "Well, you’d lose the school info entirely because it’s outside the students list. That’s why meta is crucial when you want to retain context."
   ]
  },
  {
   "cell_type": "code",
   "execution_count": 3,
   "id": "b6c74337-8b12-4251-825a-20f807cfa15d",
   "metadata": {},
   "outputs": [
    {
     "name": "stdout",
     "output_type": "stream",
     "text": [
      "   name  scores_math  scores_science\n",
      "0   Tom           90              85\n",
      "1  Sara           95              92\n"
     ]
    }
   ],
   "source": [
    "df = pd.json_normalize(data['students'], sep='_')\n",
    "print(df)"
   ]
  },
  {
   "cell_type": "markdown",
   "id": "e7b29ba4-a10c-472a-aa40-2537a819cbc2",
   "metadata": {},
   "source": [
    "When dealing with deeply nested JSON, the key is to use:\n",
    "\n",
    "record_path: This helps you dig into lists nested deep inside.\n",
    "\n",
    "meta: This grabs any extra information outside of the list.\n",
    "\n",
    "max_level: If you only want to flatten up to a certain depth, this parameter keeps things under control."
   ]
  },
  {
   "cell_type": "code",
   "execution_count": 5,
   "id": "ab7a8064-b607-4884-a588-105a77ac464b",
   "metadata": {},
   "outputs": [
    {
     "data": {
      "text/html": [
       "<div>\n",
       "<style scoped>\n",
       "    .dataframe tbody tr th:only-of-type {\n",
       "        vertical-align: middle;\n",
       "    }\n",
       "\n",
       "    .dataframe tbody tr th {\n",
       "        vertical-align: top;\n",
       "    }\n",
       "\n",
       "    .dataframe thead th {\n",
       "        text-align: right;\n",
       "    }\n",
       "</style>\n",
       "<table border=\"1\" class=\"dataframe\">\n",
       "  <thead>\n",
       "    <tr style=\"text-align: right;\">\n",
       "      <th></th>\n",
       "      <th>name</th>\n",
       "      <th>skills_Python</th>\n",
       "      <th>skills_SQL</th>\n",
       "      <th>skills_Recruitment</th>\n",
       "      <th>skills_Onboarding</th>\n",
       "      <th>departments_name</th>\n",
       "      <th>company</th>\n",
       "    </tr>\n",
       "  </thead>\n",
       "  <tbody>\n",
       "    <tr>\n",
       "      <th>0</th>\n",
       "      <td>Alice</td>\n",
       "      <td>90.0</td>\n",
       "      <td>80.0</td>\n",
       "      <td>NaN</td>\n",
       "      <td>NaN</td>\n",
       "      <td>Engineering</td>\n",
       "      <td>TechCorp</td>\n",
       "    </tr>\n",
       "    <tr>\n",
       "      <th>1</th>\n",
       "      <td>Bob</td>\n",
       "      <td>85.0</td>\n",
       "      <td>88.0</td>\n",
       "      <td>NaN</td>\n",
       "      <td>NaN</td>\n",
       "      <td>Engineering</td>\n",
       "      <td>TechCorp</td>\n",
       "    </tr>\n",
       "    <tr>\n",
       "      <th>2</th>\n",
       "      <td>Charlie</td>\n",
       "      <td>NaN</td>\n",
       "      <td>NaN</td>\n",
       "      <td>95.0</td>\n",
       "      <td>89.0</td>\n",
       "      <td>HR</td>\n",
       "      <td>TechCorp</td>\n",
       "    </tr>\n",
       "  </tbody>\n",
       "</table>\n",
       "</div>"
      ],
      "text/plain": [
       "      name  skills_Python  skills_SQL  skills_Recruitment  skills_Onboarding  \\\n",
       "0    Alice           90.0        80.0                 NaN                NaN   \n",
       "1      Bob           85.0        88.0                 NaN                NaN   \n",
       "2  Charlie            NaN         NaN                95.0               89.0   \n",
       "\n",
       "  departments_name   company  \n",
       "0      Engineering  TechCorp  \n",
       "1      Engineering  TechCorp  \n",
       "2               HR  TechCorp  "
      ]
     },
     "execution_count": 5,
     "metadata": {},
     "output_type": "execute_result"
    }
   ],
   "source": [
    "import pandas as pd\n",
    "\n",
    "data = {\n",
    "    \"company\": \"TechCorp\",\n",
    "    \"departments\": [\n",
    "        {\n",
    "            \"name\": \"Engineering\",\n",
    "            \"employees\": [\n",
    "                {\"name\": \"Alice\", \"skills\": {\"Python\": 90, \"SQL\": 80}},\n",
    "                {\"name\": \"Bob\", \"skills\": {\"Python\": 85, \"SQL\": 88}}\n",
    "            ]\n",
    "        },\n",
    "        {\n",
    "            \"name\": \"HR\",\n",
    "            \"employees\": [\n",
    "                {\"name\": \"Charlie\", \"skills\": {\"Recruitment\": 95, \"Onboarding\": 89}}\n",
    "            ]\n",
    "        }\n",
    "    ]\n",
    "}\n",
    "\n",
    "# Flattening nested lists with meta info\n",
    "df = pd.json_normalize(\n",
    "    data,\n",
    "    record_path=['departments', 'employees'],\n",
    "    meta=[['departments', 'name'], 'company'],\n",
    "    sep='_'\n",
    ")\n",
    "\n",
    "df"
   ]
  },
  {
   "cell_type": "markdown",
   "id": "46cbf19d-64f2-4c78-aaf9-8d1888235fff",
   "metadata": {},
   "source": [
    "NaN values are often not errors—they’re just missing data.  Here’s why it happens:\n",
    "\n",
    "Some keys might be present in one record but missing in another.\n",
    "This inconsistency leads to NaN (which stands for “Not a Number”).\n",
    "How to Handle It?\n",
    "\n",
    "Ignore Missing Keys:\n",
    "Use errors='ignore' to skip over missing fields gracefully."
   ]
  },
  {
   "cell_type": "code",
   "execution_count": 6,
   "id": "9facea41-67d9-4270-af99-feb2d93185a8",
   "metadata": {},
   "outputs": [
    {
     "name": "stdout",
     "output_type": "stream",
     "text": [
      "   id  name  info.age\n",
      "0   1  John      30.0\n",
      "1   2  Jane       NaN\n"
     ]
    }
   ],
   "source": [
    "data = [\n",
    "    {\"id\": 1, \"name\": \"John\", \"info\": {\"age\": 30}},\n",
    "    {\"id\": 2, \"name\": \"Jane\"}  # Missing 'info'\n",
    "]\n",
    "\n",
    "df = pd.json_normalize(data, errors='ignore')\n",
    "print(df)"
   ]
  },
  {
   "cell_type": "markdown",
   "id": "9d1cd018-9267-4523-ac9e-ba5ff4fb5d14",
   "metadata": {},
   "source": [
    "2. Fill Missing Values:\n",
    "After normalization, you can fill in the gaps with fillna()."
   ]
  },
  {
   "cell_type": "code",
   "execution_count": 9,
   "id": "fa428596-7cc0-427b-b108-cb7732756075",
   "metadata": {},
   "outputs": [
    {
     "name": "stdout",
     "output_type": "stream",
     "text": [
      "   id  name       info.age\n",
      "0   1  John           30.0\n",
      "1   2  Jane  Not Available\n"
     ]
    }
   ],
   "source": [
    "# df.fillna(\"Not Available\", inplace=True)\n",
    "df = df.fillna(\"Not Available\")\n",
    "print(df)"
   ]
  },
  {
   "cell_type": "code",
   "execution_count": 11,
   "id": "f4214810-3f94-4758-a047-ccf9f16c19f6",
   "metadata": {},
   "outputs": [
    {
     "name": "stdout",
     "output_type": "stream",
     "text": [
      "   id   name     contacts.email\n",
      "0   1  Alice  alice@example.com\n",
      "1   2    Bob    bob@example.com\n"
     ]
    }
   ],
   "source": [
    "import requests\n",
    "import pandas as pd\n",
    "\n",
    "# Mock API response\n",
    "response = {\n",
    "    \"users\": [\n",
    "        {\"id\": 1, \"name\": \"Alice\", \"contacts\": {\"email\": \"alice@example.com\"}},\n",
    "        {\"id\": 2, \"name\": \"Bob\", \"contacts\": {\"email\": \"bob@example.com\"}}\n",
    "    ]\n",
    "}\n",
    "\n",
    "# Convert API response to JSON and normalize\n",
    "df = pd.json_normalize(response['users'])\n",
    "print(df)"
   ]
  },
  {
   "cell_type": "code",
   "execution_count": null,
   "id": "eb5d4341-8e52-41b8-aee8-d1e1ba86167c",
   "metadata": {},
   "outputs": [],
   "source": []
  }
 ],
 "metadata": {
  "kernelspec": {
   "display_name": "Python [conda env:py311b]",
   "language": "python",
   "name": "conda-env-py311b-py"
  },
  "language_info": {
   "codemirror_mode": {
    "name": "ipython",
    "version": 3
   },
   "file_extension": ".py",
   "mimetype": "text/x-python",
   "name": "python",
   "nbconvert_exporter": "python",
   "pygments_lexer": "ipython3",
   "version": "3.11.13"
  },
  "widgets": {
   "application/vnd.jupyter.widget-state+json": {
    "state": {},
    "version_major": 2,
    "version_minor": 0
   }
  }
 },
 "nbformat": 4,
 "nbformat_minor": 5
}
