{
 "cells": [
  {
   "cell_type": "markdown",
   "id": "021322cc-9daa-4524-99fc-2acf70b5a3c0",
   "metadata": {},
   "source": [
    "https://www.zyte.com/blog/json-parsing-with-python/"
   ]
  },
  {
   "cell_type": "code",
   "execution_count": 15,
   "id": "b097d43c-4cc6-44b4-8b51-de675f487741",
   "metadata": {},
   "outputs": [],
   "source": [
    "# pip install jmespath"
   ]
  },
  {
   "cell_type": "code",
   "execution_count": null,
   "id": "39ab94fd-5e14-48a9-bd34-54f2c8fb58de",
   "metadata": {},
   "outputs": [],
   "source": []
  },
  {
   "cell_type": "code",
   "execution_count": 22,
   "id": "921ecaef-423c-4762-9234-896442ac5960",
   "metadata": {},
   "outputs": [],
   "source": [
    "import json\n",
    "import jmespath\n",
    "from pprint import pprint"
   ]
  },
  {
   "cell_type": "code",
   "execution_count": 4,
   "id": "a469eff1-c844-4aee-beb3-3fcc5bcbe837",
   "metadata": {},
   "outputs": [],
   "source": [
    "json_string = '{\"numbers\": [1, 2, 3], \"car\": {\"model\": \"Model X\", \"year\": 2022}}'\n",
    "json_data = json.loads(json_string)"
   ]
  },
  {
   "cell_type": "code",
   "execution_count": 17,
   "id": "6c757ff1-c2ca-42ba-aef0-8ad394c6d1ef",
   "metadata": {},
   "outputs": [
    {
     "data": {
      "text/plain": [
       "'Model X'"
      ]
     },
     "execution_count": 17,
     "metadata": {},
     "output_type": "execute_result"
    }
   ],
   "source": [
    "# Accessing nested JSON\n",
    "name = jmespath.search('car.model', json_data) \n",
    "name"
   ]
  },
  {
   "cell_type": "code",
   "execution_count": 18,
   "id": "a42cd998-c352-466e-8571-3b459e94c098",
   "metadata": {},
   "outputs": [
    {
     "data": {
      "text/plain": [
       "1"
      ]
     },
     "execution_count": 18,
     "metadata": {},
     "output_type": "execute_result"
    }
   ],
   "source": [
    "# Taking the first number from numbers\n",
    "first_number = jmespath.search('numbers[0]', json_data)\n",
    "first_number"
   ]
  },
  {
   "cell_type": "markdown",
   "id": "bd1726ef-254e-4c9f-8289-f597f5e8a52c",
   "metadata": {},
   "source": [
    "https://jmespath.org/tutorial.html"
   ]
  },
  {
   "cell_type": "code",
   "execution_count": 24,
   "id": "9d38d942-60d3-42c6-8228-10d3143f697c",
   "metadata": {},
   "outputs": [
    {
     "name": "stdout",
     "output_type": "stream",
     "text": [
      "{'a': {'b': {'c': {'d': 'value'}}}}\n"
     ]
    }
   ],
   "source": [
    "json_data2 = json.loads('{\"a\": {\"b\": {\"c\": {\"d\": \"value\"}}}}')\n",
    "pprint(json_data2)"
   ]
  },
  {
   "cell_type": "code",
   "execution_count": 27,
   "id": "41cd789a-d9b3-4b20-b4b2-9937c3c9d22a",
   "metadata": {},
   "outputs": [
    {
     "name": "stdout",
     "output_type": "stream",
     "text": [
      "{'b': {'c': {'d': 'value'}}}\n"
     ]
    }
   ],
   "source": [
    "print(jmespath.search('a', json_data2))"
   ]
  },
  {
   "cell_type": "code",
   "execution_count": 25,
   "id": "5b834c93-0f4f-47b7-82c5-64ff39dda959",
   "metadata": {},
   "outputs": [
    {
     "name": "stdout",
     "output_type": "stream",
     "text": [
      "{'a': {'b': {'c': {'d': 'value'}}}}\n"
     ]
    }
   ],
   "source": [
    "json_data3 = json.loads('{\"a\": {\"b\": {\"c\": {\"d\": \"value\"}}}}')\n",
    "pprint(json_data3)"
   ]
  },
  {
   "cell_type": "code",
   "execution_count": 28,
   "id": "b60ee997-ad03-4d91-8f3f-9910ccff8139",
   "metadata": {},
   "outputs": [
    {
     "name": "stdout",
     "output_type": "stream",
     "text": [
      "value\n"
     ]
    }
   ],
   "source": [
    "print(jmespath.search('a.b.c.d', json_data3))"
   ]
  },
  {
   "cell_type": "code",
   "execution_count": 35,
   "id": "4f719e72-1cbc-48f1-a46e-1b041920bf70",
   "metadata": {},
   "outputs": [
    {
     "name": "stdout",
     "output_type": "stream",
     "text": [
      "['a', 'b', 'c', 'd', 'e', 'f'] <class 'list'>\n",
      "b\n"
     ]
    }
   ],
   "source": [
    "mystring = '[\"a\", \"b\", \"c\", \"d\", \"e\", \"f\"]'\n",
    "json_data4 = json.loads(mystring)\n",
    "print(json_data4, type(json_data4))\n",
    "print(jmespath.search('[1]', json_data4))"
   ]
  },
  {
   "cell_type": "code",
   "execution_count": 39,
   "id": "7b7f5eb3-94fe-4ef0-96a3-1179831d6169",
   "metadata": {},
   "outputs": [
    {
     "name": "stdout",
     "output_type": "stream",
     "text": [
      "<class 'dict'>\n",
      "{'a': {'b': {'c': [{'d': [0, [1, 2]]}, {'d': [3, 4]}]}}} <class 'dict'>\n",
      "1\n"
     ]
    }
   ],
   "source": [
    "mystring = \"\"\"\n",
    "{\"a\": {\n",
    "  \"b\": {\n",
    "    \"c\": [\n",
    "      {\"d\": [0, [1, 2]]},\n",
    "      {\"d\": [3, 4]}\n",
    "    ]\n",
    "  }\n",
    "}}\n",
    "\"\"\"\n",
    "json_data5 = json.loads(mystring)\n",
    "print(type(json_data5))\n",
    "print(json_data5, type(json_data5))\n",
    "print(jmespath.search('a.b.c[0].d[1][0]', json_data5))"
   ]
  },
  {
   "cell_type": "code",
   "execution_count": 44,
   "id": "79d40e3e-1177-42f8-a368-951b64c59882",
   "metadata": {},
   "outputs": [
    {
     "name": "stdout",
     "output_type": "stream",
     "text": [
      "<class 'list'>\n",
      "[0, 1, 2, 3, 4, 5, 6, 7, 8, 9] <class 'list'>\n",
      "[0, 1, 2, 3, 4]\n",
      "[0, 2, 4, 6, 8]\n",
      "[9, 8, 7, 6, 5, 4, 3, 2, 1, 0]\n"
     ]
    }
   ],
   "source": [
    "# slices, slicing\n",
    "mystring = '[0, 1, 2, 3, 4, 5, 6, 7, 8, 9]'\n",
    "json_data5 = json.loads(mystring)\n",
    "print(type(json_data5))\n",
    "print(json_data5, type(json_data5))\n",
    "print(jmespath.search('[0:5]', json_data5))\n",
    "print(jmespath.search('[::2]', json_data5))\n",
    "print(jmespath.search('[::-1]', json_data5))"
   ]
  },
  {
   "cell_type": "code",
   "execution_count": 49,
   "id": "12c61619-7a76-4b09-b3d3-8c32c2db2b89",
   "metadata": {},
   "outputs": [
    {
     "name": "stdout",
     "output_type": "stream",
     "text": [
      "{'people': [{'first': 'James', 'last': 'd'}, {'first': 'Jacob', 'last': 'e'}, {'first': 'Jayden', 'last': 'f'}, {'missing': 'different'}], 'foo': {'bar': 'baz'}} <class 'dict'>\n",
      "['James', 'Jacob', 'Jayden']\n",
      "['James', 'Jacob']\n"
     ]
    }
   ],
   "source": [
    "# List and slice projections\n",
    "mystring=\"\"\"\n",
    "{\n",
    "  \"people\": [\n",
    "    {\"first\": \"James\", \"last\": \"d\"},\n",
    "    {\"first\": \"Jacob\", \"last\": \"e\"},\n",
    "    {\"first\": \"Jayden\", \"last\": \"f\"},\n",
    "    {\"missing\": \"different\"}\n",
    "  ],\n",
    "  \"foo\": {\"bar\": \"baz\"}\n",
    "}\n",
    "\"\"\"\n",
    "json_data5 = json.loads(mystring)\n",
    "print(json_data5, type(json_data5))\n",
    "print(jmespath.search('people[*].first', json_data5))\n",
    "print(jmespath.search('people[:2].first', json_data5))\n",
    "#print(jmespath.search('people[*].first', json_data5))\n",
    "#print(jmespath.search('people[*].first', json_data5))"
   ]
  },
  {
   "cell_type": "code",
   "execution_count": 51,
   "id": "189b08a5-a4d7-42b4-bff8-cb95c6160fb9",
   "metadata": {},
   "outputs": [
    {
     "name": "stdout",
     "output_type": "stream",
     "text": [
      "{'ops': {'functionA': {'numArgs': 2}, 'functionB': {'numArgs': 3}, 'functionC': {'variadic': True}}} <class 'dict'>\n",
      "[2, 3]\n"
     ]
    }
   ],
   "source": [
    "# object projections\n",
    "mystring = \"\"\"\n",
    "{\n",
    "  \"ops\": {\n",
    "    \"functionA\": {\"numArgs\": 2},\n",
    "    \"functionB\": {\"numArgs\": 3},\n",
    "    \"functionC\": {\"variadic\": true}\n",
    "  }\n",
    "}\n",
    "\"\"\"\n",
    "json_data = json.loads(mystring)\n",
    "print(json_data, type(json_data))\n",
    "print(jmespath.search('ops.*.numArgs', json_data))\n",
    "\n"
   ]
  },
  {
   "cell_type": "code",
   "execution_count": 57,
   "id": "fa9a61bb-58b6-4c13-84d2-9c3d7c1b4719",
   "metadata": {},
   "outputs": [
    {
     "name": "stdout",
     "output_type": "stream",
     "text": [
      "{'reservations': [{'instances': [{'state': 'running'}, {'state': 'stopped'}]}, {'instances': [{'state': 'terminated'}, {'state': 'running'}]}]} <class 'dict'>\n",
      "[['running', 'stopped'], ['terminated', 'running']]\n",
      "['running', 'stopped', 'terminated', 'running']\n"
     ]
    }
   ],
   "source": [
    "# flatten projections\n",
    "mystring = \"\"\"{\n",
    "  \"reservations\": [\n",
    "    {\n",
    "      \"instances\": [\n",
    "        {\"state\": \"running\"},\n",
    "        {\"state\": \"stopped\"}\n",
    "      ]\n",
    "    },\n",
    "    {\n",
    "      \"instances\": [\n",
    "        {\"state\": \"terminated\"},\n",
    "        {\"state\": \"running\"}\n",
    "      ]\n",
    "    }\n",
    "  ]\n",
    "}\"\"\"\n",
    "json_data = json.loads(mystring)\n",
    "print(json_data, type(json_data))\n",
    "print(jmespath.search('reservations[*].instances[*].state', json_data))\n",
    "print(jmespath.search('reservations[].instances[].state', json_data))\n"
   ]
  },
  {
   "cell_type": "code",
   "execution_count": 59,
   "id": "57b74e7d-af20-4061-8b10-c3baf9408699",
   "metadata": {},
   "outputs": [
    {
     "name": "stdout",
     "output_type": "stream",
     "text": [
      "[[0, 1], 2, [3], 4, [5, [6, 7]]] <class 'list'>\n",
      "[0, 1, 2, 3, 4, 5, [6, 7]]\n"
     ]
    }
   ],
   "source": [
    "mystring = \"\"\"[\n",
    "  [0, 1],\n",
    "  2,\n",
    "  [3],\n",
    "  4,\n",
    "  [5, [6, 7]]\n",
    "]\"\"\"\n",
    "json_data = json.loads(mystring)\n",
    "print(json_data, type(json_data))\n",
    "print(jmespath.search('[]', json_data))\n",
    "# print(jmespath.search('reservations[].instances[].state', json_data))\n"
   ]
  },
  {
   "cell_type": "code",
   "execution_count": 63,
   "id": "118008d6-6234-4398-b92f-0c27eaa064dd",
   "metadata": {},
   "outputs": [
    {
     "name": "stdout",
     "output_type": "stream",
     "text": [
      "{'people': [{'first': 'James', 'last': 'd'}, {'first': 'Jacob', 'last': 'e'}, {'first': 'Jayden', 'last': 'f'}, {'missing': 'different'}], 'foo': {'bar': 'baz'}} <class 'dict'>\n",
      "James\n",
      "['James', 'Jacob', 'Jayden']\n",
      "James\n"
     ]
    }
   ],
   "source": [
    "# pipe expressions\n",
    "mystring = \"\"\"{\n",
    "  \"people\": [\n",
    "    {\"first\": \"James\", \"last\": \"d\"},\n",
    "    {\"first\": \"Jacob\", \"last\": \"e\"},\n",
    "    {\"first\": \"Jayden\", \"last\": \"f\"},\n",
    "    {\"missing\": \"different\"}\n",
    "  ],\n",
    "  \"foo\": {\"bar\": \"baz\"}\n",
    "}\"\"\"\n",
    "json_data = json.loads(mystring)\n",
    "print(json_data, type(json_data))\n",
    "print(jmespath.search('people[0].first', json_data))\n",
    "print(jmespath.search('people[*].first', json_data))\n",
    "print(jmespath.search('people[*].first | [0]', json_data))\n"
   ]
  },
  {
   "cell_type": "code",
   "execution_count": null,
   "id": "49fcbaea-3bf7-47fc-bf27-6a8709758481",
   "metadata": {},
   "outputs": [],
   "source": []
  }
 ],
 "metadata": {
  "kernelspec": {
   "display_name": "Python [conda env:py311b]",
   "language": "python",
   "name": "conda-env-py311b-py"
  },
  "language_info": {
   "codemirror_mode": {
    "name": "ipython",
    "version": 3
   },
   "file_extension": ".py",
   "mimetype": "text/x-python",
   "name": "python",
   "nbconvert_exporter": "python",
   "pygments_lexer": "ipython3",
   "version": "3.11.13"
  },
  "widgets": {
   "application/vnd.jupyter.widget-state+json": {
    "state": {},
    "version_major": 2,
    "version_minor": 0
   }
  }
 },
 "nbformat": 4,
 "nbformat_minor": 5
}
