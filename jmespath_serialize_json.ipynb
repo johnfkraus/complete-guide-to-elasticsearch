{
 "cells": [
  {
   "cell_type": "markdown",
   "id": "021322cc-9daa-4524-99fc-2acf70b5a3c0",
   "metadata": {},
   "source": [
    "https://www.zyte.com/blog/json-parsing-with-python/"
   ]
  },
  {
   "cell_type": "code",
   "execution_count": 1,
   "id": "b097d43c-4cc6-44b4-8b51-de675f487741",
   "metadata": {},
   "outputs": [],
   "source": [
    "# pip install jmespath\n",
    "# pip install js2py"
   ]
  },
  {
   "cell_type": "code",
   "execution_count": 2,
   "id": "921ecaef-423c-4762-9234-896442ac5960",
   "metadata": {},
   "outputs": [],
   "source": [
    "import json\n",
    "import jmespath\n",
    "from pprint import pprint"
   ]
  },
  {
   "cell_type": "markdown",
   "id": "8886ef31-686c-40f2-a99c-0964a378133b",
   "metadata": {},
   "source": [
    "# catit"
   ]
  },
  {
   "cell_type": "code",
   "execution_count": 11,
   "id": "666a0556-90e6-4f70-a583-7ddddd4f3cd2",
   "metadata": {},
   "outputs": [],
   "source": [
    "import subprocess\n",
    "\n",
    "def cat_using_subprocess(file_path):\n",
    "    result = subprocess.run(['cat', file_path], capture_output=True, text=True)\n",
    "    print(result.stdout)\n",
    "\n",
    "# def catit(mystring):\n",
    "#     temp_file_path = 'mystring.json'\n",
    "#     with open(temp_file_path, 'w') as f:\n",
    "#         f.write(mystring)\n",
    "\n",
    "#     result = subprocess.run(['cat', temp_file_path], capture_output=True, text=True)\n",
    "#     print(result.stdout)\n",
    "\n",
    "\n",
    "def catit2(mystring):\n",
    "    print(f\"17 {type(mystring)=}\")\n",
    "    if not isinstance(mystring, str):\n",
    "        mystring = json.dumps(mystring, indent=4)\n",
    "        print(f\"21 {type(mystring)=}\")\n",
    "\n",
    "    print(f\"23{type(mystring)=}\")\n",
    "    temp_file_path = 'mystring.json'\n",
    "    with open(temp_file_path, 'w') as f:\n",
    "        f.write(mystring)\n",
    "\n",
    "    result = subprocess.run(['cat', temp_file_path], capture_output=True, text=True)\n",
    "    print(result.stdout)"
   ]
  },
  {
   "cell_type": "code",
   "execution_count": 12,
   "id": "a469eff1-c844-4aee-beb3-3fcc5bcbe837",
   "metadata": {},
   "outputs": [
    {
     "name": "stdout",
     "output_type": "stream",
     "text": [
      "17 type(mystring)=<class 'dict'>\n",
      "21 type(mystring)=<class 'str'>\n",
      "23type(mystring)=<class 'str'>\n",
      "{\n",
      "    \"numbers\": [\n",
      "        1,\n",
      "        2,\n",
      "        3\n",
      "    ],\n",
      "    \"car\": {\n",
      "        \"model\": \"Model X\",\n",
      "        \"year\": 2022\n",
      "    }\n",
      "}\n",
      "<class 'dict'> dict_keys(['numbers', 'car'])\n"
     ]
    }
   ],
   "source": [
    "json_string = '{\"numbers\": [1, 2, 3], \"car\": {\"model\": \"Model X\", \"year\": 2022}}'\n",
    "json_data = json.loads(json_string)\n",
    "catit2(json_data)\n",
    "print(type(json_data), json_data.keys())"
   ]
  },
  {
   "cell_type": "code",
   "execution_count": 13,
   "id": "6c757ff1-c2ca-42ba-aef0-8ad394c6d1ef",
   "metadata": {},
   "outputs": [
    {
     "data": {
      "text/plain": [
       "'Model X'"
      ]
     },
     "execution_count": 13,
     "metadata": {},
     "output_type": "execute_result"
    }
   ],
   "source": [
    "# Accessing nested JSON\n",
    "name = jmespath.search('car.model', json_data) \n",
    "name"
   ]
  },
  {
   "cell_type": "code",
   "execution_count": 14,
   "id": "a42cd998-c352-466e-8571-3b459e94c098",
   "metadata": {},
   "outputs": [
    {
     "data": {
      "text/plain": [
       "1"
      ]
     },
     "execution_count": 14,
     "metadata": {},
     "output_type": "execute_result"
    }
   ],
   "source": [
    "# Taking the first number from numbers\n",
    "first_number = jmespath.search('numbers[0]', json_data)\n",
    "first_number"
   ]
  },
  {
   "cell_type": "markdown",
   "id": "bd1726ef-254e-4c9f-8289-f597f5e8a52c",
   "metadata": {},
   "source": [
    "# jmespath\n",
    "\n",
    "https://jmespath.org/tutorial.html\n",
    "\n",
    "https://jmespath.org/examples.html"
   ]
  },
  {
   "cell_type": "code",
   "execution_count": 16,
   "id": "9d38d942-60d3-42c6-8228-10d3143f697c",
   "metadata": {},
   "outputs": [
    {
     "name": "stdout",
     "output_type": "stream",
     "text": [
      "17 type(mystring)=<class 'dict'>\n",
      "21 type(mystring)=<class 'str'>\n",
      "23type(mystring)=<class 'str'>\n",
      "{\n",
      "    \"a\": {\n",
      "        \"b\": {\n",
      "            \"c\": {\n",
      "                \"d\": \"value\"\n",
      "            }\n",
      "        }\n",
      "    }\n",
      "}\n"
     ]
    }
   ],
   "source": [
    "json_data2 = json.loads('{\"a\": {\"b\": {\"c\": {\"d\": \"value\"}}}}')\n",
    "catit2(json_data2)"
   ]
  },
  {
   "cell_type": "code",
   "execution_count": 18,
   "id": "41cd789a-d9b3-4b20-b4b2-9937c3c9d22a",
   "metadata": {},
   "outputs": [
    {
     "name": "stdout",
     "output_type": "stream",
     "text": [
      "17 type(mystring)=<class 'dict'>\n",
      "21 type(mystring)=<class 'str'>\n",
      "23type(mystring)=<class 'str'>\n",
      "{\n",
      "    \"b\": {\n",
      "        \"c\": {\n",
      "            \"d\": \"value\"\n",
      "        }\n",
      "    }\n",
      "}\n"
     ]
    }
   ],
   "source": [
    "catit2(jmespath.search('a', json_data2))"
   ]
  },
  {
   "cell_type": "code",
   "execution_count": 19,
   "id": "5b834c93-0f4f-47b7-82c5-64ff39dda959",
   "metadata": {},
   "outputs": [
    {
     "name": "stdout",
     "output_type": "stream",
     "text": [
      "17 type(mystring)=<class 'dict'>\n",
      "21 type(mystring)=<class 'str'>\n",
      "23type(mystring)=<class 'str'>\n",
      "{\n",
      "    \"a\": {\n",
      "        \"b\": {\n",
      "            \"c\": {\n",
      "                \"d\": \"value\"\n",
      "            }\n",
      "        }\n",
      "    }\n",
      "}\n"
     ]
    }
   ],
   "source": [
    "json_data3 = json.loads('{\"a\": {\"b\": {\"c\": {\"d\": \"value\"}}}}')\n",
    "catit2(json_data3)"
   ]
  },
  {
   "cell_type": "code",
   "execution_count": 20,
   "id": "b60ee997-ad03-4d91-8f3f-9910ccff8139",
   "metadata": {},
   "outputs": [
    {
     "name": "stdout",
     "output_type": "stream",
     "text": [
      "value\n"
     ]
    }
   ],
   "source": [
    "print(jmespath.search('a.b.c.d', json_data3))"
   ]
  },
  {
   "cell_type": "code",
   "execution_count": 21,
   "id": "4f719e72-1cbc-48f1-a46e-1b041920bf70",
   "metadata": {},
   "outputs": [
    {
     "name": "stdout",
     "output_type": "stream",
     "text": [
      "['a', 'b', 'c', 'd', 'e', 'f'] <class 'list'>\n",
      "b\n"
     ]
    }
   ],
   "source": [
    "mystring = '[\"a\", \"b\", \"c\", \"d\", \"e\", \"f\"]'\n",
    "json_data4 = json.loads(mystring)\n",
    "print(json_data4, type(json_data4))\n",
    "print(jmespath.search('[1]', json_data4))"
   ]
  },
  {
   "cell_type": "code",
   "execution_count": 24,
   "id": "7b7f5eb3-94fe-4ef0-96a3-1179831d6169",
   "metadata": {},
   "outputs": [
    {
     "name": "stdout",
     "output_type": "stream",
     "text": [
      "<class 'dict'>\n",
      "{'a': {'b': {'c': [{'d': [0, [1, 2]]}, {'d': [3, 4]}]}}}\n",
      "1\n"
     ]
    }
   ],
   "source": [
    "mystring = \"\"\"\n",
    "{\"a\": {\n",
    "  \"b\": {\n",
    "    \"c\": [\n",
    "      {\"d\": [0, [1, 2]]},\n",
    "      {\"d\": [3, 4]}\n",
    "    ]\n",
    "  }\n",
    "}}\n",
    "\"\"\"\n",
    "json_data5 = json.loads(mystring)\n",
    "print(type(json_data5))\n",
    "print(json_data5)\n",
    "print(jmespath.search('a.b.c[0].d[1][0]', json_data5))"
   ]
  },
  {
   "cell_type": "code",
   "execution_count": 44,
   "id": "79d40e3e-1177-42f8-a368-951b64c59882",
   "metadata": {},
   "outputs": [
    {
     "name": "stdout",
     "output_type": "stream",
     "text": [
      "<class 'list'>\n",
      "[0, 1, 2, 3, 4, 5, 6, 7, 8, 9] <class 'list'>\n",
      "[0, 1, 2, 3, 4]\n",
      "[0, 2, 4, 6, 8]\n",
      "[9, 8, 7, 6, 5, 4, 3, 2, 1, 0]\n"
     ]
    }
   ],
   "source": [
    "# slices, slicing\n",
    "mystring = '[0, 1, 2, 3, 4, 5, 6, 7, 8, 9]'\n",
    "json_data5 = json.loads(mystring)\n",
    "print(type(json_data5))\n",
    "print(json_data5, type(json_data5))\n",
    "print(jmespath.search('[0:5]', json_data5))\n",
    "print(jmespath.search('[::2]', json_data5))\n",
    "print(jmespath.search('[::-1]', json_data5))"
   ]
  },
  {
   "cell_type": "code",
   "execution_count": 25,
   "id": "12c61619-7a76-4b09-b3d3-8c32c2db2b89",
   "metadata": {},
   "outputs": [
    {
     "name": "stdout",
     "output_type": "stream",
     "text": [
      "{'people': [{'first': 'James', 'last': 'd'}, {'first': 'Jacob', 'last': 'e'}, {'first': 'Jayden', 'last': 'f'}, {'missing': 'different'}], 'foo': {'bar': 'baz'}} <class 'dict'>\n",
      "['James', 'Jacob', 'Jayden']\n",
      "['James', 'Jacob']\n"
     ]
    }
   ],
   "source": [
    "# List and slice projections\n",
    "mystring=\"\"\"\n",
    "{\n",
    "  \"people\": [\n",
    "    {\"first\": \"James\", \"last\": \"d\"},\n",
    "    {\"first\": \"Jacob\", \"last\": \"e\"},\n",
    "    {\"first\": \"Jayden\", \"last\": \"f\"},\n",
    "    {\"missing\": \"different\"}\n",
    "  ],\n",
    "  \"foo\": {\"bar\": \"baz\"}\n",
    "}\n",
    "\"\"\"\n",
    "json_data5 = json.loads(mystring)\n",
    "print(json_data5, type(json_data5))\n",
    "print(jmespath.search('people[*].first', json_data5))\n",
    "print(jmespath.search('people[:2].first', json_data5))\n",
    "#print(jmespath.search('people[*].first', json_data5))\n",
    "#print(jmespath.search('people[*].first', json_data5))"
   ]
  },
  {
   "cell_type": "code",
   "execution_count": 34,
   "id": "189b08a5-a4d7-42b4-bff8-cb95c6160fb9",
   "metadata": {},
   "outputs": [
    {
     "name": "stdout",
     "output_type": "stream",
     "text": [
      "{'ops': {'functionA': {'numArgs': 2}, 'functionB': {'numArgs': 3}, 'functionC': {'variadic': True}}} <class 'dict'>\n",
      "[2, 3]\n"
     ]
    },
    {
     "ename": "JMESPathTypeError",
     "evalue": "In function keys(), invalid type for value: [{'numArgs': 2}, {'numArgs': 3}, {'variadic': True}], expected one of: ['object'], received: \"array\"",
     "output_type": "error",
     "traceback": [
      "\u001b[31m---------------------------------------------------------------------------\u001b[39m",
      "\u001b[31mJMESPathTypeError\u001b[39m                         Traceback (most recent call last)",
      "\u001b[36mCell\u001b[39m\u001b[36m \u001b[39m\u001b[32mIn[34]\u001b[39m\u001b[32m, line 14\u001b[39m\n\u001b[32m     12\u001b[39m \u001b[38;5;28mprint\u001b[39m(json_data, \u001b[38;5;28mtype\u001b[39m(json_data))\n\u001b[32m     13\u001b[39m \u001b[38;5;28mprint\u001b[39m(jmespath.search(\u001b[33m'\u001b[39m\u001b[33mops.*.numArgs\u001b[39m\u001b[33m'\u001b[39m, json_data))\n\u001b[32m---> \u001b[39m\u001b[32m14\u001b[39m \u001b[38;5;28mprint\u001b[39m(jmespath.search(\u001b[33m'\u001b[39m\u001b[33mkeys(ops.*)\u001b[39m\u001b[33m'\u001b[39m, json_data))\n",
      "\u001b[36mFile \u001b[39m\u001b[32m/opt/anaconda3/envs/py311b/lib/python3.11/site-packages/jmespath/__init__.py:12\u001b[39m, in \u001b[36msearch\u001b[39m\u001b[34m(expression, data, options)\u001b[39m\n\u001b[32m     11\u001b[39m \u001b[38;5;28;01mdef\u001b[39;00m\u001b[38;5;250m \u001b[39m\u001b[34msearch\u001b[39m(expression, data, options=\u001b[38;5;28;01mNone\u001b[39;00m):\n\u001b[32m---> \u001b[39m\u001b[32m12\u001b[39m     \u001b[38;5;28;01mreturn\u001b[39;00m parser.Parser().parse(expression).search(data, options=options)\n",
      "\u001b[36mFile \u001b[39m\u001b[32m/opt/anaconda3/envs/py311b/lib/python3.11/site-packages/jmespath/parser.py:509\u001b[39m, in \u001b[36mParsedResult.search\u001b[39m\u001b[34m(self, value, options)\u001b[39m\n\u001b[32m    507\u001b[39m \u001b[38;5;28;01mdef\u001b[39;00m\u001b[38;5;250m \u001b[39m\u001b[34msearch\u001b[39m(\u001b[38;5;28mself\u001b[39m, value, options=\u001b[38;5;28;01mNone\u001b[39;00m):\n\u001b[32m    508\u001b[39m     interpreter = visitor.TreeInterpreter(options)\n\u001b[32m--> \u001b[39m\u001b[32m509\u001b[39m     result = interpreter.visit(\u001b[38;5;28mself\u001b[39m.parsed, value)\n\u001b[32m    510\u001b[39m     \u001b[38;5;28;01mreturn\u001b[39;00m result\n",
      "\u001b[36mFile \u001b[39m\u001b[32m/opt/anaconda3/envs/py311b/lib/python3.11/site-packages/jmespath/visitor.py:94\u001b[39m, in \u001b[36mVisitor.visit\u001b[39m\u001b[34m(self, node, *args, **kwargs)\u001b[39m\n\u001b[32m     91\u001b[39m     method = \u001b[38;5;28mgetattr\u001b[39m(\n\u001b[32m     92\u001b[39m         \u001b[38;5;28mself\u001b[39m, \u001b[33m'\u001b[39m\u001b[33mvisit_\u001b[39m\u001b[38;5;132;01m%s\u001b[39;00m\u001b[33m'\u001b[39m % node[\u001b[33m'\u001b[39m\u001b[33mtype\u001b[39m\u001b[33m'\u001b[39m], \u001b[38;5;28mself\u001b[39m.default_visit)\n\u001b[32m     93\u001b[39m     \u001b[38;5;28mself\u001b[39m._method_cache[node_type] = method\n\u001b[32m---> \u001b[39m\u001b[32m94\u001b[39m \u001b[38;5;28;01mreturn\u001b[39;00m method(node, *args, **kwargs)\n",
      "\u001b[36mFile \u001b[39m\u001b[32m/opt/anaconda3/envs/py311b/lib/python3.11/site-packages/jmespath/visitor.py:171\u001b[39m, in \u001b[36mTreeInterpreter.visit_function_expression\u001b[39m\u001b[34m(self, node, value)\u001b[39m\n\u001b[32m    169\u001b[39m     current = \u001b[38;5;28mself\u001b[39m.visit(child, value)\n\u001b[32m    170\u001b[39m     resolved_args.append(current)\n\u001b[32m--> \u001b[39m\u001b[32m171\u001b[39m \u001b[38;5;28;01mreturn\u001b[39;00m \u001b[38;5;28mself\u001b[39m._functions.call_function(node[\u001b[33m'\u001b[39m\u001b[33mvalue\u001b[39m\u001b[33m'\u001b[39m], resolved_args)\n",
      "\u001b[36mFile \u001b[39m\u001b[32m/opt/anaconda3/envs/py311b/lib/python3.11/site-packages/jmespath/functions.py:80\u001b[39m, in \u001b[36mFunctions.call_function\u001b[39m\u001b[34m(self, function_name, resolved_args)\u001b[39m\n\u001b[32m     78\u001b[39m function = spec[\u001b[33m'\u001b[39m\u001b[33mfunction\u001b[39m\u001b[33m'\u001b[39m]\n\u001b[32m     79\u001b[39m signature = spec[\u001b[33m'\u001b[39m\u001b[33msignature\u001b[39m\u001b[33m'\u001b[39m]\n\u001b[32m---> \u001b[39m\u001b[32m80\u001b[39m \u001b[38;5;28mself\u001b[39m._validate_arguments(resolved_args, signature, function_name)\n\u001b[32m     81\u001b[39m \u001b[38;5;28;01mreturn\u001b[39;00m function(\u001b[38;5;28mself\u001b[39m, *resolved_args)\n",
      "\u001b[36mFile \u001b[39m\u001b[32m/opt/anaconda3/envs/py311b/lib/python3.11/site-packages/jmespath/functions.py:91\u001b[39m, in \u001b[36mFunctions._validate_arguments\u001b[39m\u001b[34m(self, args, signature, function_name)\u001b[39m\n\u001b[32m     88\u001b[39m \u001b[38;5;28;01melif\u001b[39;00m \u001b[38;5;28mlen\u001b[39m(args) != \u001b[38;5;28mlen\u001b[39m(signature):\n\u001b[32m     89\u001b[39m     \u001b[38;5;28;01mraise\u001b[39;00m exceptions.ArityError(\n\u001b[32m     90\u001b[39m         \u001b[38;5;28mlen\u001b[39m(signature), \u001b[38;5;28mlen\u001b[39m(args), function_name)\n\u001b[32m---> \u001b[39m\u001b[32m91\u001b[39m \u001b[38;5;28;01mreturn\u001b[39;00m \u001b[38;5;28mself\u001b[39m._type_check(args, signature, function_name)\n",
      "\u001b[36mFile \u001b[39m\u001b[32m/opt/anaconda3/envs/py311b/lib/python3.11/site-packages/jmespath/functions.py:97\u001b[39m, in \u001b[36mFunctions._type_check\u001b[39m\u001b[34m(self, actual, signature, function_name)\u001b[39m\n\u001b[32m     95\u001b[39m allowed_types = signature[i][\u001b[33m'\u001b[39m\u001b[33mtypes\u001b[39m\u001b[33m'\u001b[39m]\n\u001b[32m     96\u001b[39m \u001b[38;5;28;01mif\u001b[39;00m allowed_types:\n\u001b[32m---> \u001b[39m\u001b[32m97\u001b[39m     \u001b[38;5;28mself\u001b[39m._type_check_single(actual[i], allowed_types,\n\u001b[32m     98\u001b[39m                             function_name)\n",
      "\u001b[36mFile \u001b[39m\u001b[32m/opt/anaconda3/envs/py311b/lib/python3.11/site-packages/jmespath/functions.py:111\u001b[39m, in \u001b[36mFunctions._type_check_single\u001b[39m\u001b[34m(self, current, types, function_name)\u001b[39m\n\u001b[32m    109\u001b[39m actual_typename = \u001b[38;5;28mtype\u001b[39m(current).\u001b[34m__name__\u001b[39m\n\u001b[32m    110\u001b[39m \u001b[38;5;28;01mif\u001b[39;00m actual_typename \u001b[38;5;129;01mnot\u001b[39;00m \u001b[38;5;129;01min\u001b[39;00m allowed_types:\n\u001b[32m--> \u001b[39m\u001b[32m111\u001b[39m     \u001b[38;5;28;01mraise\u001b[39;00m exceptions.JMESPathTypeError(\n\u001b[32m    112\u001b[39m         function_name, current,\n\u001b[32m    113\u001b[39m         \u001b[38;5;28mself\u001b[39m._convert_to_jmespath_type(actual_typename), types)\n\u001b[32m    114\u001b[39m \u001b[38;5;66;03m# If we're dealing with a list type, we can have\u001b[39;00m\n\u001b[32m    115\u001b[39m \u001b[38;5;66;03m# additional restrictions on the type of the list\u001b[39;00m\n\u001b[32m    116\u001b[39m \u001b[38;5;66;03m# elements (for example a function can require a\u001b[39;00m\n\u001b[32m    117\u001b[39m \u001b[38;5;66;03m# list of numbers or a list of strings).\u001b[39;00m\n\u001b[32m    118\u001b[39m \u001b[38;5;66;03m# Arrays are the only types that can have subtypes.\u001b[39;00m\n\u001b[32m    119\u001b[39m \u001b[38;5;28;01mif\u001b[39;00m allowed_subtypes:\n",
      "\u001b[31mJMESPathTypeError\u001b[39m: In function keys(), invalid type for value: [{'numArgs': 2}, {'numArgs': 3}, {'variadic': True}], expected one of: ['object'], received: \"array\""
     ]
    }
   ],
   "source": [
    "# object projections\n",
    "mystring = \"\"\"\n",
    "{\n",
    "  \"ops\": {\n",
    "    \"functionA\": {\"numArgs\": 2},\n",
    "    \"functionB\": {\"numArgs\": 3},\n",
    "    \"functionC\": {\"variadic\": true}\n",
    "  }\n",
    "}\n",
    "\"\"\"\n",
    "json_data = json.loads(mystring)\n",
    "print(json_data, type(json_data))\n",
    "print(jmespath.search('ops.*.numArgs', json_data))\n",
    "print(jmespath.search('keys(ops.*)', json_data))\n"
   ]
  },
  {
   "cell_type": "code",
   "execution_count": 30,
   "id": "fa9a61bb-58b6-4c13-84d2-9c3d7c1b4719",
   "metadata": {},
   "outputs": [
    {
     "name": "stdout",
     "output_type": "stream",
     "text": [
      "{'reservations': [{'instances': [{'state': 'running'}, {'state': 'stopped'}]}, {'instances': [{'state': 'terminated'}, {'state': 'running'}]}]} <class 'dict'>\n",
      "[['running', 'stopped'], ['terminated', 'running']]\n",
      "['running', 'stopped', 'terminated', 'running']\n",
      "{'stopped', 'terminated', 'running'}\n"
     ]
    }
   ],
   "source": [
    "# flatten projections\n",
    "mystring = \"\"\"{\n",
    "  \"reservations\": [\n",
    "    {\n",
    "      \"instances\": [\n",
    "        {\"state\": \"running\"},\n",
    "        {\"state\": \"stopped\"}\n",
    "      ]\n",
    "    },\n",
    "    {\n",
    "      \"instances\": [\n",
    "        {\"state\": \"terminated\"},\n",
    "        {\"state\": \"running\"}\n",
    "      ]\n",
    "    }\n",
    "  ]\n",
    "}\"\"\"\n",
    "json_data = json.loads(mystring)\n",
    "print(json_data, type(json_data))\n",
    "print(jmespath.search('reservations[*].instances[*].state', json_data))\n",
    "print(jmespath.search('reservations[].instances[].state', json_data))\n",
    "\n",
    "print(set(jmespath.search('reservations[].instances[].state', json_data)))\n"
   ]
  },
  {
   "cell_type": "code",
   "execution_count": 59,
   "id": "57b74e7d-af20-4061-8b10-c3baf9408699",
   "metadata": {},
   "outputs": [
    {
     "name": "stdout",
     "output_type": "stream",
     "text": [
      "[[0, 1], 2, [3], 4, [5, [6, 7]]] <class 'list'>\n",
      "[0, 1, 2, 3, 4, 5, [6, 7]]\n"
     ]
    }
   ],
   "source": [
    "mystring = \"\"\"[\n",
    "  [0, 1],\n",
    "  2,\n",
    "  [3],\n",
    "  4,\n",
    "  [5, [6, 7]]\n",
    "]\"\"\"\n",
    "json_data = json.loads(mystring)\n",
    "print(json_data, type(json_data))\n",
    "print(jmespath.search('[]', json_data))\n",
    "# print(jmespath.search('reservations[].instances[].state', json_data))\n"
   ]
  },
  {
   "cell_type": "code",
   "execution_count": 63,
   "id": "118008d6-6234-4398-b92f-0c27eaa064dd",
   "metadata": {},
   "outputs": [
    {
     "name": "stdout",
     "output_type": "stream",
     "text": [
      "{'people': [{'first': 'James', 'last': 'd'}, {'first': 'Jacob', 'last': 'e'}, {'first': 'Jayden', 'last': 'f'}, {'missing': 'different'}], 'foo': {'bar': 'baz'}} <class 'dict'>\n",
      "James\n",
      "['James', 'Jacob', 'Jayden']\n",
      "James\n"
     ]
    }
   ],
   "source": [
    "# pipe expressions\n",
    "mystring = \"\"\"{\n",
    "  \"people\": [\n",
    "    {\"first\": \"James\", \"last\": \"d\"},\n",
    "    {\"first\": \"Jacob\", \"last\": \"e\"},\n",
    "    {\"first\": \"Jayden\", \"last\": \"f\"},\n",
    "    {\"missing\": \"different\"}\n",
    "  ],\n",
    "  \"foo\": {\"bar\": \"baz\"}\n",
    "}\"\"\"\n",
    "json_data = json.loads(mystring)\n",
    "print(json_data, type(json_data))\n",
    "print(jmespath.search('people[0].first', json_data))\n",
    "print(jmespath.search('people[*].first', json_data))\n",
    "print(jmespath.search('people[*].first | [0]', json_data))\n"
   ]
  },
  {
   "cell_type": "code",
   "execution_count": 66,
   "id": "49fcbaea-3bf7-47fc-bf27-6a8709758481",
   "metadata": {},
   "outputs": [
    {
     "name": "stdout",
     "output_type": "stream",
     "text": [
      "{'people': [{'name': 'b', 'age': 30, 'state': {'name': 'up'}}, {'name': 'a', 'age': 50, 'state': {'name': 'down'}}, {'name': 'c', 'age': 40, 'state': {'name': 'up'}}]} <class 'dict'>\n",
      "3\n"
     ]
    },
    {
     "ename": "ArityError",
     "evalue": "Expected 1 argument for function length(), received 0",
     "output_type": "error",
     "traceback": [
      "\u001b[31m---------------------------------------------------------------------------\u001b[39m",
      "\u001b[31mArityError\u001b[39m                                Traceback (most recent call last)",
      "\u001b[36mCell\u001b[39m\u001b[36m \u001b[39m\u001b[32mIn[66]\u001b[39m\u001b[32m, line 26\u001b[39m\n\u001b[32m     24\u001b[39m \u001b[38;5;28mprint\u001b[39m(json_data, \u001b[38;5;28mtype\u001b[39m(json_data))\n\u001b[32m     25\u001b[39m \u001b[38;5;28mprint\u001b[39m(jmespath.search(\u001b[33m'\u001b[39m\u001b[33mlength(people)\u001b[39m\u001b[33m'\u001b[39m, json_data))\n\u001b[32m---> \u001b[39m\u001b[32m26\u001b[39m \u001b[38;5;28mprint\u001b[39m(jmespath.search(\u001b[33m'\u001b[39m\u001b[33mlength()\u001b[39m\u001b[33m'\u001b[39m, json_data))\n",
      "\u001b[36mFile \u001b[39m\u001b[32m/opt/anaconda3/envs/py311b/lib/python3.11/site-packages/jmespath/__init__.py:12\u001b[39m, in \u001b[36msearch\u001b[39m\u001b[34m(expression, data, options)\u001b[39m\n\u001b[32m     11\u001b[39m \u001b[38;5;28;01mdef\u001b[39;00m\u001b[38;5;250m \u001b[39m\u001b[34msearch\u001b[39m(expression, data, options=\u001b[38;5;28;01mNone\u001b[39;00m):\n\u001b[32m---> \u001b[39m\u001b[32m12\u001b[39m     \u001b[38;5;28;01mreturn\u001b[39;00m parser.Parser().parse(expression).search(data, options=options)\n",
      "\u001b[36mFile \u001b[39m\u001b[32m/opt/anaconda3/envs/py311b/lib/python3.11/site-packages/jmespath/parser.py:509\u001b[39m, in \u001b[36mParsedResult.search\u001b[39m\u001b[34m(self, value, options)\u001b[39m\n\u001b[32m    507\u001b[39m \u001b[38;5;28;01mdef\u001b[39;00m\u001b[38;5;250m \u001b[39m\u001b[34msearch\u001b[39m(\u001b[38;5;28mself\u001b[39m, value, options=\u001b[38;5;28;01mNone\u001b[39;00m):\n\u001b[32m    508\u001b[39m     interpreter = visitor.TreeInterpreter(options)\n\u001b[32m--> \u001b[39m\u001b[32m509\u001b[39m     result = interpreter.visit(\u001b[38;5;28mself\u001b[39m.parsed, value)\n\u001b[32m    510\u001b[39m     \u001b[38;5;28;01mreturn\u001b[39;00m result\n",
      "\u001b[36mFile \u001b[39m\u001b[32m/opt/anaconda3/envs/py311b/lib/python3.11/site-packages/jmespath/visitor.py:94\u001b[39m, in \u001b[36mVisitor.visit\u001b[39m\u001b[34m(self, node, *args, **kwargs)\u001b[39m\n\u001b[32m     91\u001b[39m     method = \u001b[38;5;28mgetattr\u001b[39m(\n\u001b[32m     92\u001b[39m         \u001b[38;5;28mself\u001b[39m, \u001b[33m'\u001b[39m\u001b[33mvisit_\u001b[39m\u001b[38;5;132;01m%s\u001b[39;00m\u001b[33m'\u001b[39m % node[\u001b[33m'\u001b[39m\u001b[33mtype\u001b[39m\u001b[33m'\u001b[39m], \u001b[38;5;28mself\u001b[39m.default_visit)\n\u001b[32m     93\u001b[39m     \u001b[38;5;28mself\u001b[39m._method_cache[node_type] = method\n\u001b[32m---> \u001b[39m\u001b[32m94\u001b[39m \u001b[38;5;28;01mreturn\u001b[39;00m method(node, *args, **kwargs)\n",
      "\u001b[36mFile \u001b[39m\u001b[32m/opt/anaconda3/envs/py311b/lib/python3.11/site-packages/jmespath/visitor.py:171\u001b[39m, in \u001b[36mTreeInterpreter.visit_function_expression\u001b[39m\u001b[34m(self, node, value)\u001b[39m\n\u001b[32m    169\u001b[39m     current = \u001b[38;5;28mself\u001b[39m.visit(child, value)\n\u001b[32m    170\u001b[39m     resolved_args.append(current)\n\u001b[32m--> \u001b[39m\u001b[32m171\u001b[39m \u001b[38;5;28;01mreturn\u001b[39;00m \u001b[38;5;28mself\u001b[39m._functions.call_function(node[\u001b[33m'\u001b[39m\u001b[33mvalue\u001b[39m\u001b[33m'\u001b[39m], resolved_args)\n",
      "\u001b[36mFile \u001b[39m\u001b[32m/opt/anaconda3/envs/py311b/lib/python3.11/site-packages/jmespath/functions.py:80\u001b[39m, in \u001b[36mFunctions.call_function\u001b[39m\u001b[34m(self, function_name, resolved_args)\u001b[39m\n\u001b[32m     78\u001b[39m function = spec[\u001b[33m'\u001b[39m\u001b[33mfunction\u001b[39m\u001b[33m'\u001b[39m]\n\u001b[32m     79\u001b[39m signature = spec[\u001b[33m'\u001b[39m\u001b[33msignature\u001b[39m\u001b[33m'\u001b[39m]\n\u001b[32m---> \u001b[39m\u001b[32m80\u001b[39m \u001b[38;5;28mself\u001b[39m._validate_arguments(resolved_args, signature, function_name)\n\u001b[32m     81\u001b[39m \u001b[38;5;28;01mreturn\u001b[39;00m function(\u001b[38;5;28mself\u001b[39m, *resolved_args)\n",
      "\u001b[36mFile \u001b[39m\u001b[32m/opt/anaconda3/envs/py311b/lib/python3.11/site-packages/jmespath/functions.py:89\u001b[39m, in \u001b[36mFunctions._validate_arguments\u001b[39m\u001b[34m(self, args, signature, function_name)\u001b[39m\n\u001b[32m     86\u001b[39m         \u001b[38;5;28;01mraise\u001b[39;00m exceptions.VariadictArityError(\n\u001b[32m     87\u001b[39m             \u001b[38;5;28mlen\u001b[39m(signature), \u001b[38;5;28mlen\u001b[39m(args), function_name)\n\u001b[32m     88\u001b[39m \u001b[38;5;28;01melif\u001b[39;00m \u001b[38;5;28mlen\u001b[39m(args) != \u001b[38;5;28mlen\u001b[39m(signature):\n\u001b[32m---> \u001b[39m\u001b[32m89\u001b[39m     \u001b[38;5;28;01mraise\u001b[39;00m exceptions.ArityError(\n\u001b[32m     90\u001b[39m         \u001b[38;5;28mlen\u001b[39m(signature), \u001b[38;5;28mlen\u001b[39m(args), function_name)\n\u001b[32m     91\u001b[39m \u001b[38;5;28;01mreturn\u001b[39;00m \u001b[38;5;28mself\u001b[39m._type_check(args, signature, function_name)\n",
      "\u001b[31mArityError\u001b[39m: Expected 1 argument for function length(), received 0"
     ]
    }
   ],
   "source": [
    "# functions\n",
    "mystring = \"\"\"\n",
    "{\n",
    "  \"people\": [\n",
    "    {\n",
    "      \"name\": \"b\",\n",
    "      \"age\": 30,\n",
    "      \"state\": {\"name\": \"up\"}\n",
    "    },\n",
    "    {\n",
    "      \"name\": \"a\",\n",
    "      \"age\": 50,\n",
    "      \"state\": {\"name\": \"down\"}\n",
    "    },\n",
    "    {\n",
    "      \"name\": \"c\",\n",
    "      \"age\": 40,\n",
    "      \"state\": {\"name\": \"up\"}\n",
    "    }\n",
    "  ]\n",
    "}\n",
    "\"\"\"\n",
    "json_data = json.loads(mystring)\n",
    "print(json_data, type(json_data))\n",
    "print(jmespath.search('length(people)', json_data))\n",
    "print(jmespath.search('length()', json_data))"
   ]
  },
  {
   "cell_type": "code",
   "execution_count": 71,
   "id": "43a812cf",
   "metadata": {},
   "outputs": [
    {
     "name": "stdout",
     "output_type": "stream",
     "text": [
      "[{'name': 'b', 'age': 30, 'state': {'name': 'up'}}, {'name': 'a', 'age': 50, 'state': {'name': 'down'}}, {'name': 'c', 'age': 40, 'state': {'name': 'up'}}] \n",
      " <class 'list'>\n",
      "3\n"
     ]
    }
   ],
   "source": [
    "# functions 2 \n",
    "mystring = \"\"\"\n",
    "[\n",
    "    {\n",
    "      \"name\": \"b\",\n",
    "      \"age\": 30,\n",
    "      \"state\": {\"name\": \"up\"}\n",
    "    },\n",
    "    {\n",
    "      \"name\": \"a\",\n",
    "      \"age\": 50,\n",
    "      \"state\": {\"name\": \"down\"}\n",
    "    },\n",
    "    {\n",
    "      \"name\": \"c\",\n",
    "      \"age\": 40,\n",
    "      \"state\": {\"name\": \"up\"}\n",
    "    }\n",
    "  ]\n",
    "\"\"\"\n",
    "json_data = json.loads(mystring)\n",
    "print(json_data, '\\n', type(json_data))\n",
    "print(len(json_data))\n",
    "#$zprint(jmespath.search('length(people)', json_data))\n",
    "#print(jmespath.search('length()', json_data))\n",
    "#print("
   ]
  },
  {
   "cell_type": "code",
   "execution_count": 72,
   "id": "4fc91c8e-b89f-4909-9a3c-0921537fad8a",
   "metadata": {},
   "outputs": [
    {
     "name": "stdout",
     "output_type": "stream",
     "text": [
      "{'people': [{'name': 'b', 'age': 30}, {'name': 'a', 'age': 50}, {'name': 'c', 'age': 40}]} <class 'dict'>\n",
      "a\n"
     ]
    }
   ],
   "source": [
    "# functions continued\n",
    "mystring = \"\"\"\n",
    "{\n",
    "  \"people\": [\n",
    "    {\n",
    "      \"name\": \"b\",\n",
    "      \"age\": 30\n",
    "    },\n",
    "    {\n",
    "      \"name\": \"a\",\n",
    "      \"age\": 50\n",
    "    },\n",
    "    {\n",
    "      \"name\": \"c\",\n",
    "      \"age\": 40\n",
    "    }\n",
    "  ]\n",
    "}\n",
    "\"\"\"\n",
    "json_data = json.loads(mystring)\n",
    "print(json_data, type(json_data))\n",
    "query = 'max_by(people, &age).name'\n",
    "print(jmespath.search(query, json_data))"
   ]
  },
  {
   "cell_type": "markdown",
   "id": "addef644-df28-4858-809f-7e3e05d1ec42",
   "metadata": {},
   "source": [
    "### function with filter expression\n",
    "https://jmespath.org/tutorial.html\n",
    "\n",
    "The @ character in the example above refers to the current element being evaluated in myarray. The expression contains(@, 'foo') will return true if the current element in the myarray array contains the string foo."
   ]
  },
  {
   "cell_type": "code",
   "execution_count": 74,
   "id": "271604d0",
   "metadata": {},
   "outputs": [
    {
     "name": "stdout",
     "output_type": "stream",
     "text": [
      "{'myarray': ['foo', 'foobar', 'barfoo', 'bar', 'baz', 'barbaz', 'barfoobaz']} <class 'dict'>\n",
      "['foo', 'foobar', 'barfoo', 'barfoobaz']\n"
     ]
    }
   ],
   "source": [
    "# function with filter expression\n",
    "# https://jmespath.org/tutorial.html\n",
    "mystring = \"\"\"\n",
    "{\n",
    "  \"myarray\": [\n",
    "    \"foo\",\n",
    "    \"foobar\",\n",
    "    \"barfoo\",\n",
    "    \"bar\",\n",
    "    \"baz\",\n",
    "    \"barbaz\",\n",
    "    \"barfoobaz\"\n",
    "  ]\n",
    "}\n",
    "\"\"\"\n",
    "json_data = json.loads(mystring)\n",
    "print(json_data, type(json_data))\n",
    "query = \"myarray[?contains(@, 'foo') == `true`]\"\n",
    "print(jmespath.search(query, json_data))"
   ]
  },
  {
   "cell_type": "code",
   "execution_count": 12,
   "id": "6e963b53-3388-46ff-a2d9-c89ec12dda1b",
   "metadata": {},
   "outputs": [
    {
     "name": "stdout",
     "output_type": "stream",
     "text": [
      "[\n",
      "    [\n",
      "        \"Fred\",\n",
      "        25\n",
      "    ],\n",
      "    [\n",
      "        \"George\",\n",
      "        30\n",
      "    ]\n",
      "]\n"
     ]
    }
   ],
   "source": [
    "\n",
    "# cat_using_subprocess('output1.json')"
   ]
  },
  {
   "cell_type": "markdown",
   "id": "7bb5fd0d-94a4-43c3-9d40-19bd3e041e5b",
   "metadata": {},
   "source": [
    "## catit"
   ]
  },
  {
   "cell_type": "code",
   "execution_count": 155,
   "id": "0d0e149b-3c69-440d-b624-ff7c445f50ad",
   "metadata": {},
   "outputs": [],
   "source": []
  },
  {
   "cell_type": "code",
   "execution_count": 144,
   "id": "76354f94-aed7-4b0e-b929-de4af770625a",
   "metadata": {},
   "outputs": [
    {
     "name": "stdout",
     "output_type": "stream",
     "text": [
      "<class 'dict'>\n"
     ]
    }
   ],
   "source": [
    "## Reading JSON from a File\n",
    "# Read from file into a dictionary\n",
    "with open('es-movies-response.json', 'r') as file:\n",
    "    data2 = json.load(file)\n",
    "    print(type(data2))"
   ]
  },
  {
   "cell_type": "code",
   "execution_count": 146,
   "id": "68a5e894-470c-4212-b756-d070453f00cd",
   "metadata": {},
   "outputs": [],
   "source": [
    "# catit2(json.dumps(data2[\"hits\"][\"hits\"], indent=4))"
   ]
  },
  {
   "cell_type": "code",
   "execution_count": 150,
   "id": "ff799bd9-768e-4ba9-93a7-0f0fac59ec5e",
   "metadata": {},
   "outputs": [],
   "source": [
    "# keys = '_source.metascore'\n",
    "# setkeys=set(['metascore'])\n",
    "# print(setkeys)\n",
    "# # sourcekeys = data2['hits']['hits']['._source'].keys()\n",
    "query = \"hits.hits[*].[_id, _source]\"\n",
    "\n",
    "result = jmespath.search(query, data2)  # list"
   ]
  },
  {
   "cell_type": "code",
   "execution_count": 153,
   "id": "1547b5b5-e856-48e6-976e-bcb18785134a",
   "metadata": {},
   "outputs": [
    {
     "name": "stdout",
     "output_type": "stream",
     "text": [
      "17 type(mystring)=<class 'list'>\n",
      "17 type(mystring)=<class 'str'>\n",
      "type(mystring)=<class 'str'>\n",
      "[\n",
      "    [\n",
      "        \"KYgR95kBa2Q2SW-AJS9D\",\n",
      "        {\n",
      "            \"name\": \"Justice League\",\n",
      "            \"genre\": \"Action\",\n",
      "            \"summary\": \"Fueled by his restored faith in humanity and inspired by Superman's selfless act, Bruce Wayne enlists the help of his newfound ally, Diana Prince, to face an even greater enemy\",\n",
      "            \"yearofrelease\": 201,\n",
      "            \"metascore\": 45,\n",
      "            \"votes\": 275122,\n",
      "            \"collection_date\": \"2025-10-01\",\n",
      "            \"rating\": 6.6\n",
      "        }\n",
      "    ],\n",
      "    [\n",
      "        \"KogR95kBa2Q2SW-AWS8D\",\n",
      "        {\n",
      "            \"name\": \"Justice League\",\n",
      "            \"genre\": \"Action\",\n",
      "            \"summary\": \"Fueled by his restored faith in humanity and inspired by Superman's selfless act, Bruce Wayne enlists the help of his newfound ally, Diana Prince, to face an even greater enemy\",\n",
      "            \"yearofrelease\": 201,\n",
      "            \"metascore\": 45,\n",
      "            \"collection_date\": \"2025-10-02\",\n",
      "            \"votes\": 275122,\n",
      "            \"rating\": 6.6\n",
      "        }\n",
      "    ],\n",
      "    [\n",
      "        \"K4gS95kBa2Q2SW-Ami_v\",\n",
      "        {\n",
      "            \"name\": \"Justice League\",\n",
      "            \"genre\": \"Action\",\n",
      "            \"summary\": \"Fueled by his restored faith in humanity and inspired by Superman's selfless act, Bruce Wayne enlists the help of his newfound ally, Diana Prince, to face an even greater enemy\",\n",
      "            \"yearofrelease\": 201,\n",
      "            \"metascore\": 45,\n",
      "            \"collection_date\": \"2025-10-03\",\n",
      "            \"votes\": 275122,\n",
      "            \"rating\": 6.6\n",
      "        }\n",
      "    ],\n",
      "    [\n",
      "        \"LYgi95kBa2Q2SW-AhS_P\",\n",
      "        {\n",
      "            \"name\": \"Thor Ragnarok\",\n",
      "            \"genre\": \"Action\",\n",
      "            \"summary\": \"Thor is imprisoned on the planet Sakaar, and must race  against time to return to Asgard and stop Ragnar\\u00f6k, the destruction of his world, at the hands of the powerful and ruthless villain Hela\",\n",
      "            \"yearofrelease\": 2017,\n",
      "            \"metascore\": 74,\n",
      "            \"collection_date\": \"2025-10-04\",\n",
      "            \"votes\": 374270,\n",
      "            \"rating\": 7.9\n",
      "        }\n",
      "    ],\n",
      "    [\n",
      "        \"Logi95kBa2Q2SW-AhS_P\",\n",
      "        {\n",
      "            \"name\": \"Infinity War\",\n",
      "            \"genre\": \"Sci-Fi\",\n",
      "            \"summary\": \"The Avengers and their allies must be willing to sacrifice all in an attempt to defeat the powerful Thanos before his blitz of devastation and ruin puts an end to the universe\",\n",
      "            \"yearofrelease\": 2018,\n",
      "            \"metascore\": 68,\n",
      "            \"collection_date\": \"2025-10-05\",\n",
      "            \"votes\": 450856,\n",
      "            \"rating\": 8.6\n",
      "        }\n",
      "    ],\n",
      "    [\n",
      "        \"L4gi95kBa2Q2SW-AhS_P\",\n",
      "        {\n",
      "            \"name\": \"Christopher Robin\",\n",
      "            \"genre\": \"Comedy\",\n",
      "            \"summary\": \"A working-class family man, Christopher Robin, encounters his childhood friend Winnie-the-Pooh, who helps him to  rediscover the joys of life\",\n",
      "            \"yearofrelease\": 2018,\n",
      "            \"metascore\": 60,\n",
      "            \"collection_date\": \"2025-10-05\",\n",
      "            \"votes\": 9648,\n",
      "            \"rating\": 7.9\n",
      "        }\n",
      "    ],\n",
      "    [\n",
      "        \"LIgX95kBa2Q2SW-Azi9u\",\n",
      "        {\n",
      "            \"name\": \"Justice League\",\n",
      "            \"genre\": \"Action\",\n",
      "            \"summary\": \"Fueled by his restored faith in humanity and inspired by Superman's selfless act, Bruce Wayne enlists the help of his newfound ally, Diana Prince, to face an even greater enemy\",\n",
      "            \"yearofrelease\": 201,\n",
      "            \"metascore\": 45,\n",
      "            \"votes\": 275122,\n",
      "            \"rating\": 7.5\n",
      "        }\n",
      "    ]\n",
      "]\n"
     ]
    }
   ],
   "source": [
    "# print(type(result), result[:500])\n",
    "catit2(result)\n",
    "\n",
    "# keys_to_remove = setkeys.intersection(set(data2['hits']['hits']['._source']).keys())\n",
    "# for key in keys_to_remove:\n",
    "#     del mydict[key]"
   ]
  },
  {
   "cell_type": "code",
   "execution_count": 154,
   "id": "ae071338-e351-470a-8cdd-1d030d1be499",
   "metadata": {},
   "outputs": [
    {
     "name": "stdout",
     "output_type": "stream",
     "text": [
      "17 type(mystring)=<class 'str'>\n",
      "type(mystring)=<class 'str'>\n",
      "{\n",
      "    \"_index\": \"movies\",\n",
      "    \"_id\": \"KYgR95kBa2Q2SW-AJS9D\",\n",
      "    \"_score\": 1,\n",
      "    \"_source\": {\n",
      "        \"name\": \"Justice League\",\n",
      "        \"genre\": \"Action\",\n",
      "        \"summary\": \"Fueled by his restored faith in humanity and inspired by Superman's selfless act, Bruce Wayne enlists the help of his newfound ally, Diana Prince, to face an even greater enemy\",\n",
      "        \"yearofrelease\": 201,\n",
      "        \"metascore\": 45,\n",
      "        \"votes\": 275122,\n",
      "        \"collection_date\": \"2025-10-01\",\n",
      "        \"rating\": 6.6\n",
      "    }\n",
      "}\n"
     ]
    }
   ],
   "source": [
    "catit2(json.dumps(data2[\"hits\"][\"hits\"][0], indent=4))"
   ]
  },
  {
   "cell_type": "code",
   "execution_count": 149,
   "id": "f8629f34-ffc3-44ef-8334-fe87fbf1465c",
   "metadata": {},
   "outputs": [],
   "source": [
    "# catit2(data2)"
   ]
  },
  {
   "cell_type": "markdown",
   "id": "8b6429cb-c460-41db-a711-f37118eaa081",
   "metadata": {},
   "source": [
    "# jmespath examples\n",
    "\n",
    "https://github.com/jmespath/jmespath.site/blob/master/docs/examples.rst\n",
    "\n",
    "https://jmespath.org/examples.html\n"
   ]
  },
  {
   "cell_type": "markdown",
   "id": "b296658b-89be-4008-9c90-0df3145fbb8f",
   "metadata": {},
   "source": [
    "## Filters and Multiselect Lists¶\n"
   ]
  },
  {
   "cell_type": "code",
   "execution_count": 28,
   "id": "bcb3a59a",
   "metadata": {},
   "outputs": [
    {
     "name": "stdout",
     "output_type": "stream",
     "text": [
      "[\n",
      "    [\n",
      "        \"Fred\",\n",
      "        25\n",
      "    ],\n",
      "    [\n",
      "        \"George\",\n",
      "        30\n",
      "    ]\n",
      "]\n"
     ]
    }
   ],
   "source": [
    "# \n",
    "mystring = \"\"\"\n",
    " {\n",
    "      \"people\": [\n",
    "        {\n",
    "          \"age\": 20,\n",
    "          \"other\": \"foo\",\n",
    "          \"name\": \"Bob\"\n",
    "        },\n",
    "        {\n",
    "          \"age\": 25,\n",
    "          \"other\": \"bar\",\n",
    "          \"name\": \"Fred\"\n",
    "        },\n",
    "        {\n",
    "          \"age\": 30,\n",
    "          \"other\": \"baz\",\n",
    "          \"name\": \"George\"\n",
    "        }\n",
    "      ]\n",
    "    }\"\"\"\n",
    "json_data = json.loads(mystring)\n",
    "# print(json_data, type(json_data))\n",
    "query = \"people[?age > `20`].[name, age]\"\n",
    "result = jmespath.search(query, json_data)  # list\n",
    "json_string = json.dumps(result, indent=4)\n",
    "catit(json_string)"
   ]
  },
  {
   "cell_type": "code",
   "execution_count": 28,
   "id": "a8474ff9-3c31-4c9f-b5cf-9ec78e58836e",
   "metadata": {},
   "outputs": [
    {
     "name": "stdout",
     "output_type": "stream",
     "text": [
      "[\n",
      "    [\n",
      "        \"Fred\",\n",
      "        25\n",
      "    ],\n",
      "    [\n",
      "        \"George\",\n",
      "        30\n",
      "    ]\n",
      "]\n"
     ]
    }
   ],
   "source": [
    "# \n",
    "mystring = \"\"\"\n",
    " {\n",
    "      \"people\": [\n",
    "        {\n",
    "          \"age\": 20,\n",
    "          \"other\": \"foo\",\n",
    "          \"name\": \"Bob\"\n",
    "        },\n",
    "        {\n",
    "          \"age\": 25,\n",
    "          \"other\": \"bar\",\n",
    "          \"name\": \"Fred\"\n",
    "        },\n",
    "        {\n",
    "          \"age\": 30,\n",
    "          \"other\": \"baz\",\n",
    "          \"name\": \"George\"\n",
    "        }\n",
    "      ]\n",
    "    }\"\"\"\n",
    "json_data = json.loads(mystring)\n",
    "# print(json_data, type(json_data))\n",
    "query = \"people[?age > `20`].[name, age]\"\n",
    "result = jmespath.search(query, json_data)  # list\n",
    "json_string = json.dumps(result, indent=4)\n",
    "catit(json_string)"
   ]
  },
  {
   "cell_type": "code",
   "execution_count": 10,
   "id": "f33a4109-55f3-4949-a0a3-b2a8f9d72e83",
   "metadata": {},
   "outputs": [
    {
     "name": "stdout",
     "output_type": "stream",
     "text": [
      "[\n",
      "    [\n",
      "        \"Fred\",\n",
      "        25\n",
      "    ],\n",
      "    [\n",
      "        \"George\",\n",
      "        30\n",
      "    ]\n",
      "]"
     ]
    }
   ],
   "source": [
    "cat output1.json"
   ]
  },
  {
   "cell_type": "code",
   "execution_count": 29,
   "id": "7b31d15f-8426-4e9c-b4b8-aea79c54f991",
   "metadata": {},
   "outputs": [
    {
     "name": "stdout",
     "output_type": "stream",
     "text": [
      "\u001b[34m02-Getting_Started\u001b[m\u001b[m/            movies-bulk.json\n",
      "\u001b[34m03-Managing_Documents\u001b[m\u001b[m/         movies.md\n",
      "\u001b[34m04-Mapping_&_Analysis\u001b[m\u001b[m/         mystring,txt\n",
      "\u001b[34m05-Searching_for_Data\u001b[m\u001b[m/         mystring.json\n",
      "\u001b[34m06-Joining_Queries\u001b[m\u001b[m/            orders-bulk.json\n",
      "\u001b[34m07-Controlling_Query_Results\u001b[m\u001b[m/  output1.json\n",
      "\u001b[34m08-Aggregations\u001b[m\u001b[m/               pagination.xlsx\n",
      "\u001b[34m09-Improving Search Results\u001b[m\u001b[m/   products-bulk.json\n",
      "LICENSE.md                     read-write-file.ipynb\n",
      "README.md                      recipes-bulk.json\n",
      "cheatsheet.md                  scratch.json\n",
      "data.json                      sense.json\n",
      "es-examples-hands-on.md        serialize_json.py\n",
      "es-movies-response.json        value_counts.md\n",
      "file-write-read.ipynb          value_counts.py\n",
      "file-write-read.py             vvalue_counts.py\n",
      "host.sh                        vvvalue_counts.py\n",
      "jmespath_serialize_json.ipynb  work-notes.md\n"
     ]
    }
   ],
   "source": [
    "ls"
   ]
  },
  {
   "cell_type": "code",
   "execution_count": 40,
   "id": "3068af08-77ee-4d0b-a9c5-8280a31d29ee",
   "metadata": {},
   "outputs": [
    {
     "name": "stdout",
     "output_type": "stream",
     "text": [
      "{\n",
      "    \"took\": 2,\n",
      "    \"timed_out\": false,\n",
      "    \"_shards\": {\n",
      "        \"total\": 1,\n",
      "        \"successful\": 1,\n",
      "        \"skipped\": 0,\n",
      "        \"failed\": 0\n",
      "    },\n",
      "    \"hits\": {\n",
      "        \"total\": {\n",
      "            \"value\": 7,\n",
      "            \"relation\": \"eq\"\n",
      "        },\n",
      "        \"max_score\": 1,\n",
      "        \"hits\": [\n",
      "            {\n",
      "                \"_index\": \"movies\",\n",
      "                \"_id\": \"KYgR95kBa2Q2SW-AJS9D\",\n",
      "                \"_score\": 1,\n",
      "                \"_source\": {\n",
      "                    \"name\": \"Justice League\",\n",
      "                    \"genre\": \"Action\",\n",
      "                    \"summary\": \"Fueled by his restored faith in humanity and inspired by Superman's selfless act, Bruce Wayne enlists the help of his newfound ally, Diana Prince, to face an even greater enemy\",\n",
      "                    \"yearofrelease\": 201,\n",
      "                    \"metascore\": 45,\n",
      "                    \"votes\": 275122,\n",
      "                    \"collection_date\": \"2025-10-01\",\n",
      "                    \"rating\": 6.6\n",
      "                }\n",
      "            },\n",
      "            {\n",
      "                \"_index\": \"movies\",\n",
      "                \"_id\": \"KogR95kBa2Q2SW-AWS8D\",\n",
      "                \"_score\": 1,\n",
      "                \"_source\": {\n",
      "                    \"name\": \"Justice League\",\n",
      "                    \"genre\": \"Action\",\n",
      "                    \"summary\": \"Fueled by his restored faith in humanity and inspired by Superman's selfless act, Bruce Wayne enlists the help of his newfound ally, Diana Prince, to face an even greater enemy\",\n",
      "                    \"yearofrelease\": 201,\n",
      "                    \"metascore\": 45,\n",
      "                    \"collection_date\": \"2025-10-02\",\n",
      "                    \"votes\": 275122,\n",
      "                    \"rating\": 6.6\n",
      "                }\n",
      "            },\n",
      "            {\n",
      "                \"_index\": \"movies\",\n",
      "                \"_id\": \"K4gS95kBa2Q2SW-Ami_v\",\n",
      "                \"_score\": 1,\n",
      "                \"_source\": {\n",
      "                    \"name\": \"Justice League\",\n",
      "                    \"genre\": \"Action\",\n",
      "                    \"summary\": \"Fueled by his restored faith in humanity and inspired by Superman's selfless act, Bruce Wayne enlists the help of his newfound ally, Diana Prince, to face an even greater enemy\",\n",
      "                    \"yearofrelease\": 201,\n",
      "                    \"metascore\": 45,\n",
      "                    \"collection_date\": \"2025-10-03\",\n",
      "                    \"votes\": 275122,\n",
      "                    \"rating\": 6.6\n",
      "                }\n",
      "            },\n",
      "            {\n",
      "                \"_index\": \"movies\",\n",
      "                \"_id\": \"LYgi95kBa2Q2SW-AhS_P\",\n",
      "                \"_score\": 1,\n",
      "                \"_source\": {\n",
      "                    \"name\": \"Thor Ragnarok\",\n",
      "                    \"genre\": \"Action\",\n",
      "                    \"summary\": \"Thor is imprisoned on the planet Sakaar, and must race  against time to return to Asgard and stop Ragnar\\u00f6k, the destruction of his world, at the hands of the powerful and ruthless villain Hela\",\n",
      "                    \"yearofrelease\": 2017,\n",
      "                    \"metascore\": 74,\n",
      "                    \"collection_date\": \"2025-10-04\",\n",
      "                    \"votes\": 374270,\n",
      "                    \"rating\": 7.9\n",
      "                }\n",
      "            },\n",
      "            {\n",
      "                \"_index\": \"movies\",\n",
      "                \"_id\": \"Logi95kBa2Q2SW-AhS_P\",\n",
      "                \"_score\": 1,\n",
      "                \"_source\": {\n",
      "                    \"name\": \"Infinity War\",\n",
      "                    \"genre\": \"Sci-Fi\",\n",
      "                    \"summary\": \"The Avengers and their allies must be willing to sacrifice all in an attempt to defeat the powerful Thanos before his blitz of devastation and ruin puts an end to the universe\",\n",
      "                    \"yearofrelease\": 2018,\n",
      "                    \"metascore\": 68,\n",
      "                    \"collection_date\": \"2025-10-05\",\n",
      "                    \"votes\": 450856,\n",
      "                    \"rating\": 8.6\n",
      "                }\n",
      "            },\n",
      "            {\n",
      "                \"_index\": \"movies\",\n",
      "                \"_id\": \"L4gi95kBa2Q2SW-AhS_P\",\n",
      "                \"_score\": 1,\n",
      "                \"_source\": {\n",
      "                    \"name\": \"Christopher Robin\",\n",
      "                    \"genre\": \"Comedy\",\n",
      "                    \"summary\": \"A working-class family man, Christopher Robin, encounters his childhood friend Winnie-the-Pooh, who helps him to  rediscover the joys of life\",\n",
      "                    \"yearofrelease\": 2018,\n",
      "                    \"metascore\": 60,\n",
      "                    \"collection_date\": \"2025-10-05\",\n",
      "                    \"votes\": 9648,\n",
      "                    \"rating\": 7.9\n",
      "                }\n",
      "            },\n",
      "            {\n",
      "                \"_index\": \"movies\",\n",
      "                \"_id\": \"LIgX95kBa2Q2SW-Azi9u\",\n",
      "                \"_score\": 1,\n",
      "                \"_source\": {\n",
      "                    \"name\": \"Justice League\",\n",
      "                    \"genre\": \"Action\",\n",
      "                    \"summary\": \"Fueled by his restored faith in humanity and inspired by Superman's selfless act, Bruce Wayne enlists the help of his newfound ally, Diana Prince, to face an even greater enemy\",\n",
      "                    \"yearofrelease\": 201,\n",
      "                    \"metascore\": 45,\n",
      "                    \"votes\": 275122,\n",
      "                    \"rating\": 7.5\n",
      "                }\n",
      "            }\n",
      "        ]\n",
      "    }\n",
      "}\n"
     ]
    }
   ],
   "source": [
    "import json\n",
    "with open('es-movies-response.json') as f:\n",
    "    data = json.load(f)\n",
    "    catit(json.dumps(data, indent=4))\n",
    "    "
   ]
  },
  {
   "cell_type": "code",
   "execution_count": 39,
   "id": "d8c939f7-58bb-4fdb-ab36-776b600070fa",
   "metadata": {},
   "outputs": [
    {
     "name": "stdout",
     "output_type": "stream",
     "text": [
      "7\n"
     ]
    }
   ],
   "source": [
    "query = \"length(hits.hits)\"\n",
    "result = jmespath.search(query, data)  # list\n",
    "json_string = json.dumps(result, indent=4)\n",
    "catit(json_string)"
   ]
  },
  {
   "cell_type": "code",
   "execution_count": 53,
   "id": "b3a48e49-ab27-43b1-8cb2-e43f8c88f0ed",
   "metadata": {},
   "outputs": [
    {
     "name": "stdout",
     "output_type": "stream",
     "text": [
      "[\n",
      "    [\n",
      "        \"KYgR95kBa2Q2SW-AJS9D\",\n",
      "        {\n",
      "            \"name\": \"Justice League\",\n",
      "            \"genre\": \"Action\",\n",
      "            \"summary\": \"Fueled by his restored faith in humanity and inspired by Superman's selfless act, Bruce Wayne enlists the help of his newfound ally, Diana Prince, to face an even greater enemy\",\n",
      "            \"yearofrelease\": 201,\n",
      "            \"metascore\": 45,\n",
      "            \"votes\": 275122,\n",
      "            \"collection_date\": \"2025-10-01\",\n",
      "            \"rating\": 6.6\n",
      "        }\n",
      "    ],\n",
      "    [\n",
      "        \"KogR95kBa2Q2SW-AWS8D\",\n",
      "        {\n",
      "            \"name\": \"Justice League\",\n",
      "            \"genre\": \"Action\",\n",
      "            \"summary\": \"Fueled by his restored faith in humanity and inspired by Superman's selfless act, Bruce Wayne enlists the help of his newfound ally, Diana Prince, to face an even greater enemy\",\n",
      "            \"yearofrelease\": 201,\n",
      "            \"metascore\": 45,\n",
      "            \"collection_date\": \"2025-10-02\",\n",
      "            \"votes\": 275122,\n",
      "            \"rating\": 6.6\n",
      "        }\n",
      "    ],\n",
      "    [\n",
      "        \"K4gS95kBa2Q2SW-Ami_v\",\n",
      "        {\n",
      "            \"name\": \"Justice League\",\n",
      "            \"genre\": \"Action\",\n",
      "            \"summary\": \"Fueled by his restored faith in humanity and inspired by Superman's selfless act, Bruce Wayne enlists the help of his newfound ally, Diana Prince, to face an even greater enemy\",\n",
      "            \"yearofrelease\": 201,\n",
      "            \"metascore\": 45,\n",
      "            \"collection_date\": \"2025-10-03\",\n",
      "            \"votes\": 275122,\n",
      "            \"rating\": 6.6\n",
      "        }\n",
      "    ],\n",
      "    [\n",
      "        \"LYgi95kBa2Q2SW-AhS_P\",\n",
      "        {\n",
      "            \"name\": \"Thor Ragnarok\",\n",
      "            \"genre\": \"Action\",\n",
      "            \"summary\": \"Thor is imprisoned on the planet Sakaar, and must race  against time to return to Asgard and stop Ragnar\\u00f6k, the destruction of his world, at the hands of the powerful and ruthless villain Hela\",\n",
      "            \"yearofrelease\": 2017,\n",
      "            \"metascore\": 74,\n",
      "            \"collection_date\": \"2025-10-04\",\n",
      "            \"votes\": 374270,\n",
      "            \"rating\": 7.9\n",
      "        }\n",
      "    ],\n",
      "    [\n",
      "        \"Logi95kBa2Q2SW-AhS_P\",\n",
      "        {\n",
      "            \"name\": \"Infinity War\",\n",
      "            \"genre\": \"Sci-Fi\",\n",
      "            \"summary\": \"The Avengers and their allies must be willing to sacrifice all in an attempt to defeat the powerful Thanos before his blitz of devastation and ruin puts an end to the universe\",\n",
      "            \"yearofrelease\": 2018,\n",
      "            \"metascore\": 68,\n",
      "            \"collection_date\": \"2025-10-05\",\n",
      "            \"votes\": 450856,\n",
      "            \"rating\": 8.6\n",
      "        }\n",
      "    ],\n",
      "    [\n",
      "        \"L4gi95kBa2Q2SW-AhS_P\",\n",
      "        {\n",
      "            \"name\": \"Christopher Robin\",\n",
      "            \"genre\": \"Comedy\",\n",
      "            \"summary\": \"A working-class family man, Christopher Robin, encounters his childhood friend Winnie-the-Pooh, who helps him to  rediscover the joys of life\",\n",
      "            \"yearofrelease\": 2018,\n",
      "            \"metascore\": 60,\n",
      "            \"collection_date\": \"2025-10-05\",\n",
      "            \"votes\": 9648,\n",
      "            \"rating\": 7.9\n",
      "        }\n",
      "    ],\n",
      "    [\n",
      "        \"LIgX95kBa2Q2SW-Azi9u\",\n",
      "        {\n",
      "            \"name\": \"Justice League\",\n",
      "            \"genre\": \"Action\",\n",
      "            \"summary\": \"Fueled by his restored faith in humanity and inspired by Superman's selfless act, Bruce Wayne enlists the help of his newfound ally, Diana Prince, to face an even greater enemy\",\n",
      "            \"yearofrelease\": 201,\n",
      "            \"metascore\": 45,\n",
      "            \"votes\": 275122,\n",
      "            \"rating\": 7.5\n",
      "        }\n",
      "    ]\n",
      "]\n"
     ]
    }
   ],
   "source": [
    "query = \"hits.hits[*].[_id, _source]\"\n",
    "result = jmespath.search(query, data)  # list\n",
    "json_string = json.dumps(result, indent=4)\n",
    "catit(json_string)"
   ]
  },
  {
   "cell_type": "code",
   "execution_count": 113,
   "id": "656d00b0-a56f-4dbf-bb18-152fca62e95b",
   "metadata": {},
   "outputs": [
    {
     "name": "stdout",
     "output_type": "stream",
     "text": [
      "json_data =  {'foo': [{'state': 'WA', 'value': 1}, {'state': 'WA', 'value': 2}, {'state': 'CA', 'value': 3}, {'state': 'CA', 'value': 4}]} \n",
      "type(json_data) =  <class 'dict'>\n",
      "{\n",
      "    \"foo\": [\n",
      "        {\n",
      "            \"state\": \"WA\"\n",
      "        },\n",
      "        {\n",
      "            \"state\": \"WA\"\n",
      "        },\n",
      "        {\n",
      "            \"state\": \"CA\"\n",
      "        },\n",
      "        {\n",
      "            \"state\": \"CA\"\n",
      "        }\n",
      "    ]\n",
      "}\n"
     ]
    }
   ],
   "source": [
    "# pop/delete key from dict\n",
    "mystring = \"\"\"\n",
    "{\"foo\": [{\"state\": \"WA\", \"value\": 1},\n",
    "         {\"state\": \"WA\", \"value\": 2},\n",
    "         {\"state\": \"CA\", \"value\": 3},\n",
    "         {\"state\": \"CA\", \"value\": 4}]}\n",
    "\"\"\"\n",
    "json_data = json.loads(mystring)\n",
    "print(\"json_data = \", json_data, \"\\ntype(json_data) = \", type(json_data))\n",
    "# foo = json_data[\"foo\"]\n",
    "for dict in json_data[\"foo\"]:\n",
    "    dict.pop(\"value\", None)\n",
    "\n",
    "catit(json.dumps(json_data, indent=4))\n",
    "query = \"foo[*].keys(@)\"\n",
    "\n",
    "result = jmespath.search(query, json_data)  # list\n",
    "json_string = json.dumps(result, indent=4)\n",
    "# catit(json_string)"
   ]
  },
  {
   "cell_type": "code",
   "execution_count": 140,
   "id": "0bf1bb32-eab3-4fb8-8b93-d0b1dc2c55a4",
   "metadata": {},
   "outputs": [
    {
     "name": "stdout",
     "output_type": "stream",
     "text": [
      "<class 'dict'>\n",
      "17 type(mystring)=<class 'str'>\n",
      "type(mystring)=<class 'str'>\n",
      "[\n",
      "    {\n",
      "        \"_index\": \"movies\",\n",
      "        \"_id\": \"KYgR95kBa2Q2SW-AJS9D\",\n",
      "        \"_score\": 1,\n",
      "        \"_source\": {\n",
      "            \"name\": \"Justice League\",\n",
      "            \"genre\": \"Action\",\n",
      "            \"summary\": \"Fueled by his restored faith in humanity and inspired by Superman's selfless act, Bruce Wayne enlists the help of his newfound ally, Diana Prince, to face an even greater enemy\",\n",
      "            \"yearofrelease\": 201,\n",
      "            \"metascore\": 45,\n",
      "            \"votes\": 275122,\n",
      "            \"collection_date\": \"2025-10-01\",\n",
      "            \"rating\": 6.6\n",
      "        }\n",
      "    },\n",
      "    {\n",
      "        \"_index\": \"movies\",\n",
      "        \"_id\": \"KogR95kBa2Q2SW-AWS8D\",\n",
      "        \"_score\": 1,\n",
      "        \"_source\": {\n",
      "            \"name\": \"Justice League\",\n",
      "            \"genre\": \"Action\",\n",
      "            \"summary\": \"Fueled by his restored faith in humanity and inspired by Superman's selfless act, Bruce Wayne enlists the help of his newfound ally, Diana Prince, to face an even greater enemy\",\n",
      "            \"yearofrelease\": 201,\n",
      "            \"metascore\": 45,\n",
      "            \"collection_date\": \"2025-10-02\",\n",
      "            \"votes\": 275122,\n",
      "            \"rating\": 6.6\n",
      "        }\n",
      "    },\n",
      "    {\n",
      "        \"_index\": \"movies\",\n",
      "        \"_id\": \"K4gS95kBa2Q2SW-Ami_v\",\n",
      "        \"_score\": 1,\n",
      "        \"_source\": {\n",
      "            \"name\": \"Justice League\",\n",
      "            \"genre\": \"Action\",\n",
      "            \"summary\": \"Fueled by his restored faith in humanity and inspired by Superman's selfless act, Bruce Wayne enlists the help of his newfound ally, Diana Prince, to face an even greater enemy\",\n",
      "            \"yearofrelease\": 201,\n",
      "            \"metascore\": 45,\n",
      "            \"collection_date\": \"2025-10-03\",\n",
      "            \"votes\": 275122,\n",
      "            \"rating\": 6.6\n",
      "        }\n",
      "    },\n",
      "    {\n",
      "        \"_index\": \"movies\",\n",
      "        \"_id\": \"LYgi95kBa2Q2SW-AhS_P\",\n",
      "        \"_score\": 1,\n",
      "        \"_source\": {\n",
      "            \"name\": \"Thor Ragnarok\",\n",
      "            \"genre\": \"Action\",\n",
      "            \"summary\": \"Thor is imprisoned on the planet Sakaar, and must race  against time to return to Asgard and stop Ragnar\\u00f6k, the destruction of his world, at the hands of the powerful and ruthless villain Hela\",\n",
      "            \"yearofrelease\": 2017,\n",
      "            \"metascore\": 74,\n",
      "            \"collection_date\": \"2025-10-04\",\n",
      "            \"votes\": 374270,\n",
      "            \"rating\": 7.9\n",
      "        }\n",
      "    },\n",
      "    {\n",
      "        \"_index\": \"movies\",\n",
      "        \"_id\": \"Logi95kBa2Q2SW-AhS_P\",\n",
      "        \"_score\": 1,\n",
      "        \"_source\": {\n",
      "            \"name\": \"Infinity War\",\n",
      "            \"genre\": \"Sci-Fi\",\n",
      "            \"summary\": \"The Avengers and their allies must be willing to sacrifice all in an attempt to defeat the powerful Thanos before his blitz of devastation and ruin puts an end to the universe\",\n",
      "            \"yearofrelease\": 2018,\n",
      "            \"metascore\": 68,\n",
      "            \"collection_date\": \"2025-10-05\",\n",
      "            \"votes\": 450856,\n",
      "            \"rating\": 8.6\n",
      "        }\n",
      "    },\n",
      "    {\n",
      "        \"_index\": \"movies\",\n",
      "        \"_id\": \"L4gi95kBa2Q2SW-AhS_P\",\n",
      "        \"_score\": 1,\n",
      "        \"_source\": {\n",
      "            \"name\": \"Christopher Robin\",\n",
      "            \"genre\": \"Comedy\",\n",
      "            \"summary\": \"A working-class family man, Christopher Robin, encounters his childhood friend Winnie-the-Pooh, who helps him to  rediscover the joys of life\",\n",
      "            \"yearofrelease\": 2018,\n",
      "            \"metascore\": 60,\n",
      "            \"collection_date\": \"2025-10-05\",\n",
      "            \"votes\": 9648,\n",
      "            \"rating\": 7.9\n",
      "        }\n",
      "    },\n",
      "    {\n",
      "        \"_index\": \"movies\",\n",
      "        \"_id\": \"LIgX95kBa2Q2SW-Azi9u\",\n",
      "        \"_score\": 1,\n",
      "        \"_source\": {\n",
      "            \"name\": \"Justice League\",\n",
      "            \"genre\": \"Action\",\n",
      "            \"summary\": \"Fueled by his restored faith in humanity and inspired by Superman's selfless act, Bruce Wayne enlists the help of his newfound ally, Diana Prince, to face an even greater enemy\",\n",
      "            \"yearofrelease\": 201,\n",
      "            \"metascore\": 45,\n",
      "            \"votes\": 275122,\n",
      "            \"rating\": 7.5\n",
      "        }\n",
      "    }\n",
      "]\n",
      "<class 'list'> [['KYgR95kBa2Q2SW-AJS9D', {'name': 'Justice League', 'genre': 'Action', 'summary': \"Fueled by his restored faith in humanity and inspired by Superman's selfless act, Bruce Wayne enlists the help of his newfound ally, Diana Prince, to face an even greater enemy\", 'yearofrelease': 201, 'metascore': 45, 'votes': 275122, 'collection_date': '2025-10-01', 'rating': 6.6}], ['KogR95kBa2Q2SW-AWS8D', {'name': 'Justice League', 'genre': 'Action', 'summary': \"Fueled by his restored faith in humanity and inspired by Superman's selfless act, Bruce Wayne enlists the help of his newfound ally, Diana Prince, to face an even greater enemy\", 'yearofrelease': 201, 'metascore': 45, 'collection_date': '2025-10-02', 'votes': 275122, 'rating': 6.6}], ['K4gS95kBa2Q2SW-Ami_v', {'name': 'Justice League', 'genre': 'Action', 'summary': \"Fueled by his restored faith in humanity and inspired by Superman's selfless act, Bruce Wayne enlists the help of his newfound ally, Diana Prince, to face an even greater enemy\", 'yearofrelease': 201, 'metascore': 45, 'collection_date': '2025-10-03', 'votes': 275122, 'rating': 6.6}], ['LYgi95kBa2Q2SW-AhS_P', {'name': 'Thor Ragnarok', 'genre': 'Action', 'summary': 'Thor is imprisoned on the planet Sakaar, and must race  against time to return to Asgard and stop Ragnarök, the destruction of his world, at the hands of the powerful and ruthless villain Hela', 'yearofrelease': 2017, 'metascore': 74, 'collection_date': '2025-10-04', 'votes': 374270, 'rating': 7.9}], ['Logi95kBa2Q2SW-AhS_P', {'name': 'Infinity War', 'genre': 'Sci-Fi', 'summary': 'The Avengers and their allies must be willing to sacrifice all in an attempt to defeat the powerful Thanos before his blitz of devastation and ruin puts an end to the universe', 'yearofrelease': 2018, 'metascore': 68, 'collection_date': '2025-10-05', 'votes': 450856, 'rating': 8.6}], ['L4gi95kBa2Q2SW-AhS_P', {'name': 'Christopher Robin', 'genre': 'Comedy', 'summary': 'A working-class family man, Christopher Robin, encounters his childhood friend Winnie-the-Pooh, who helps him to  rediscover the joys of life', 'yearofrelease': 2018, 'metascore': 60, 'collection_date': '2025-10-05', 'votes': 9648, 'rating': 7.9}], ['LIgX95kBa2Q2SW-Azi9u', {'name': 'Justice League', 'genre': 'Action', 'summary': \"Fueled by his restored faith in humanity and inspired by Superman's selfless act, Bruce Wayne enlists the help of his newfound ally, Diana Prince, to face an even greater enemy\", 'yearofrelease': 201, 'metascore': 45, 'votes': 275122, 'rating': 7.5}]]\n"
     ]
    },
    {
     "ename": "TypeError",
     "evalue": "write() argument must be str, not list",
     "output_type": "error",
     "traceback": [
      "\u001b[31m---------------------------------------------------------------------------\u001b[39m",
      "\u001b[31mTypeError\u001b[39m                                 Traceback (most recent call last)",
      "\u001b[36mCell\u001b[39m\u001b[36m \u001b[39m\u001b[32mIn[140]\u001b[39m\u001b[32m, line 20\u001b[39m\n\u001b[32m     18\u001b[39m result = jmespath.search(query, data2)  \u001b[38;5;66;03m# list\u001b[39;00m\n\u001b[32m     19\u001b[39m \u001b[38;5;28mprint\u001b[39m(\u001b[38;5;28mtype\u001b[39m(result), result[:\u001b[32m500\u001b[39m])\n\u001b[32m---> \u001b[39m\u001b[32m20\u001b[39m catit(result)\n",
      "\u001b[36mCell\u001b[39m\u001b[36m \u001b[39m\u001b[32mIn[139]\u001b[39m\u001b[32m, line 10\u001b[39m, in \u001b[36mcatit\u001b[39m\u001b[34m(mystring)\u001b[39m\n\u001b[32m      8\u001b[39m temp_file_path = \u001b[33m'\u001b[39m\u001b[33mmystring.json\u001b[39m\u001b[33m'\u001b[39m\n\u001b[32m      9\u001b[39m \u001b[38;5;28;01mwith\u001b[39;00m \u001b[38;5;28mopen\u001b[39m(temp_file_path, \u001b[33m'\u001b[39m\u001b[33mw\u001b[39m\u001b[33m'\u001b[39m) \u001b[38;5;28;01mas\u001b[39;00m f:\n\u001b[32m---> \u001b[39m\u001b[32m10\u001b[39m     f.write(mystring)\n\u001b[32m     12\u001b[39m result = subprocess.run([\u001b[33m'\u001b[39m\u001b[33mcat\u001b[39m\u001b[33m'\u001b[39m, temp_file_path], capture_output=\u001b[38;5;28;01mTrue\u001b[39;00m, text=\u001b[38;5;28;01mTrue\u001b[39;00m)\n\u001b[32m     13\u001b[39m \u001b[38;5;28mprint\u001b[39m(result.stdout)\n",
      "\u001b[31mTypeError\u001b[39m: write() argument must be str, not list"
     ]
    }
   ],
   "source": [
    "## Reading JSON from a File\n",
    "\n",
    "import json\n",
    "\n",
    "# Read from file into a dictionary\n",
    "with open('es-movies-response.json', 'r') as file:\n",
    "    data2 = json.load(file)\n",
    "    print(type(data2))\n",
    "\n",
    "catit2(json.dumps(data2[\"hits\"][\"hits\"], indent=4))\n",
    "# keys = '_source.metascore'\n",
    "# setkeys=set(['metascore'])\n",
    "# print(setkeys)\n",
    "# # sourcekeys = data2['hits']['hits']['._source'].keys()\n",
    "query = \"hits.hits[*].[_id, _source]\"\n",
    "\n",
    "result = jmespath.search(query, data2)  # list\n",
    "print(type(result), result[:500])\n",
    "catit(result)\n",
    "\n",
    "# keys_to_remove = setkeys.intersection(set(data2['hits']['hits']['._source']).keys())\n",
    "# for key in keys_to_remove:\n",
    "#     del mydict[key]"
   ]
  },
  {
   "cell_type": "code",
   "execution_count": null,
   "id": "85440cf1-cb49-4762-bc47-d2a19d6450ee",
   "metadata": {},
   "outputs": [],
   "source": []
  }
 ],
 "metadata": {
  "kernelspec": {
   "display_name": "Python [conda env:py311b]",
   "language": "python",
   "name": "conda-env-py311b-py"
  },
  "language_info": {
   "codemirror_mode": {
    "name": "ipython",
    "version": 3
   },
   "file_extension": ".py",
   "mimetype": "text/x-python",
   "name": "python",
   "nbconvert_exporter": "python",
   "pygments_lexer": "ipython3",
   "version": "3.11.13"
  },
  "widgets": {
   "application/vnd.jupyter.widget-state+json": {
    "state": {},
    "version_major": 2,
    "version_minor": 0
   }
  }
 },
 "nbformat": 4,
 "nbformat_minor": 5
}
